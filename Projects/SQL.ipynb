{
 "cells": [
  {
   "cell_type": "code",
   "execution_count": 1,
   "id": "93fcf2e0",
   "metadata": {},
   "outputs": [],
   "source": [
    "import pandas as pd\n",
    "import sqlite3"
   ]
  },
  {
   "cell_type": "code",
   "execution_count": 2,
   "id": "7a456192",
   "metadata": {},
   "outputs": [
    {
     "name": "stdout",
     "output_type": "stream",
     "text": [
      "Collecting ipython-sql\n",
      "  Obtaining dependency information for ipython-sql from https://files.pythonhosted.org/packages/30/8f/9e50fa53ffc371483f9d1b90c1175b706d28a2e978e90a8894035af01905/ipython_sql-0.5.0-py3-none-any.whl.metadata\n",
      "  Using cached ipython_sql-0.5.0-py3-none-any.whl.metadata (17 kB)\n",
      "Collecting prettytable (from ipython-sql)\n",
      "  Obtaining dependency information for prettytable from https://files.pythonhosted.org/packages/3d/c4/a32f4bf44faf95accbbd5d7864ddef9e289749a8efbc3adaad4a4671779a/prettytable-3.10.0-py3-none-any.whl.metadata\n",
      "  Using cached prettytable-3.10.0-py3-none-any.whl.metadata (30 kB)\n",
      "Requirement already satisfied: ipython in c:\\users\\hp\\anaconda3\\lib\\site-packages (from ipython-sql) (8.15.0)\n",
      "Collecting sqlalchemy>=2.0 (from ipython-sql)\n",
      "  Obtaining dependency information for sqlalchemy>=2.0 from https://files.pythonhosted.org/packages/83/34/e760f4e78b2aeb04a74ae7338f9c215570a256755ab0026336037ec8df75/SQLAlchemy-2.0.29-cp311-cp311-win_amd64.whl.metadata\n",
      "  Downloading SQLAlchemy-2.0.29-cp311-cp311-win_amd64.whl.metadata (9.8 kB)\n",
      "Collecting sqlparse (from ipython-sql)\n",
      "  Obtaining dependency information for sqlparse from https://files.pythonhosted.org/packages/43/5d/a0fdd88fd486b39ae1fd1a75ff75b4e29a0df96c0304d462fd407b82efe0/sqlparse-0.5.0-py3-none-any.whl.metadata\n",
      "  Downloading sqlparse-0.5.0-py3-none-any.whl.metadata (3.9 kB)\n",
      "Requirement already satisfied: six in c:\\users\\hp\\anaconda3\\lib\\site-packages (from ipython-sql) (1.16.0)\n",
      "Requirement already satisfied: ipython-genutils in c:\\users\\hp\\anaconda3\\lib\\site-packages (from ipython-sql) (0.2.0)\n",
      "Requirement already satisfied: typing-extensions>=4.6.0 in c:\\users\\hp\\anaconda3\\lib\\site-packages (from sqlalchemy>=2.0->ipython-sql) (4.7.1)\n",
      "Requirement already satisfied: greenlet!=0.4.17 in c:\\users\\hp\\anaconda3\\lib\\site-packages (from sqlalchemy>=2.0->ipython-sql) (2.0.1)\n",
      "Requirement already satisfied: backcall in c:\\users\\hp\\anaconda3\\lib\\site-packages (from ipython->ipython-sql) (0.2.0)\n",
      "Requirement already satisfied: decorator in c:\\users\\hp\\anaconda3\\lib\\site-packages (from ipython->ipython-sql) (5.1.1)\n",
      "Requirement already satisfied: jedi>=0.16 in c:\\users\\hp\\anaconda3\\lib\\site-packages (from ipython->ipython-sql) (0.18.1)\n",
      "Requirement already satisfied: matplotlib-inline in c:\\users\\hp\\anaconda3\\lib\\site-packages (from ipython->ipython-sql) (0.1.6)\n",
      "Requirement already satisfied: pickleshare in c:\\users\\hp\\anaconda3\\lib\\site-packages (from ipython->ipython-sql) (0.7.5)\n",
      "Requirement already satisfied: prompt-toolkit!=3.0.37,<3.1.0,>=3.0.30 in c:\\users\\hp\\anaconda3\\lib\\site-packages (from ipython->ipython-sql) (3.0.36)\n",
      "Requirement already satisfied: pygments>=2.4.0 in c:\\users\\hp\\anaconda3\\lib\\site-packages (from ipython->ipython-sql) (2.15.1)\n",
      "Requirement already satisfied: stack-data in c:\\users\\hp\\anaconda3\\lib\\site-packages (from ipython->ipython-sql) (0.2.0)\n",
      "Requirement already satisfied: traitlets>=5 in c:\\users\\hp\\anaconda3\\lib\\site-packages (from ipython->ipython-sql) (5.7.1)\n",
      "Requirement already satisfied: colorama in c:\\users\\hp\\anaconda3\\lib\\site-packages (from ipython->ipython-sql) (0.4.6)\n",
      "Requirement already satisfied: wcwidth in c:\\users\\hp\\anaconda3\\lib\\site-packages (from prettytable->ipython-sql) (0.2.5)\n",
      "Requirement already satisfied: parso<0.9.0,>=0.8.0 in c:\\users\\hp\\anaconda3\\lib\\site-packages (from jedi>=0.16->ipython->ipython-sql) (0.8.3)\n",
      "Requirement already satisfied: executing in c:\\users\\hp\\anaconda3\\lib\\site-packages (from stack-data->ipython->ipython-sql) (0.8.3)\n",
      "Requirement already satisfied: asttokens in c:\\users\\hp\\anaconda3\\lib\\site-packages (from stack-data->ipython->ipython-sql) (2.0.5)\n",
      "Requirement already satisfied: pure-eval in c:\\users\\hp\\anaconda3\\lib\\site-packages (from stack-data->ipython->ipython-sql) (0.2.2)\n",
      "Using cached ipython_sql-0.5.0-py3-none-any.whl (20 kB)\n",
      "Downloading SQLAlchemy-2.0.29-cp311-cp311-win_amd64.whl (2.1 MB)\n",
      "   ---------------------------------------- 0.0/2.1 MB ? eta -:--:--\n",
      "   ---------------------------------------- 0.0/2.1 MB ? eta -:--:--\n",
      "   ---------------------------------------- 0.0/2.1 MB ? eta -:--:--\n",
      "    --------------------------------------- 0.0/2.1 MB 330.3 kB/s eta 0:00:07\n",
      "    --------------------------------------- 0.0/2.1 MB 330.3 kB/s eta 0:00:07\n",
      "    --------------------------------------- 0.0/2.1 MB 151.3 kB/s eta 0:00:14\n",
      "   - -------------------------------------- 0.1/2.1 MB 204.8 kB/s eta 0:00:10\n",
      "   - -------------------------------------- 0.1/2.1 MB 262.6 kB/s eta 0:00:08\n",
      "   - -------------------------------------- 0.1/2.1 MB 262.6 kB/s eta 0:00:08\n",
      "   - -------------------------------------- 0.1/2.1 MB 262.6 kB/s eta 0:00:08\n",
      "   -- ------------------------------------- 0.1/2.1 MB 284.4 kB/s eta 0:00:07\n",
      "   --- ------------------------------------ 0.2/2.1 MB 298.3 kB/s eta 0:00:07\n",
      "   --- ------------------------------------ 0.2/2.1 MB 328.0 kB/s eta 0:00:06\n",
      "   ---- ----------------------------------- 0.2/2.1 MB 354.3 kB/s eta 0:00:06\n",
      "   ---- ----------------------------------- 0.2/2.1 MB 354.3 kB/s eta 0:00:06\n",
      "   ---- ----------------------------------- 0.2/2.1 MB 320.5 kB/s eta 0:00:06\n",
      "   ----- ---------------------------------- 0.3/2.1 MB 348.8 kB/s eta 0:00:06\n",
      "   ----- ---------------------------------- 0.3/2.1 MB 360.2 kB/s eta 0:00:05\n",
      "   ------ --------------------------------- 0.3/2.1 MB 376.6 kB/s eta 0:00:05\n",
      "   ------ --------------------------------- 0.3/2.1 MB 374.5 kB/s eta 0:00:05\n",
      "   ------ --------------------------------- 0.3/2.1 MB 374.5 kB/s eta 0:00:05\n",
      "   ------ --------------------------------- 0.3/2.1 MB 374.5 kB/s eta 0:00:05\n",
      "   -------- ------------------------------- 0.4/2.1 MB 417.1 kB/s eta 0:00:04\n",
      "   --------- ------------------------------ 0.5/2.1 MB 427.5 kB/s eta 0:00:04\n",
      "   --------- ------------------------------ 0.5/2.1 MB 434.0 kB/s eta 0:00:04\n",
      "   ---------- ----------------------------- 0.5/2.1 MB 425.6 kB/s eta 0:00:04\n",
      "   ----------- ---------------------------- 0.6/2.1 MB 458.8 kB/s eta 0:00:04\n",
      "   ----------- ---------------------------- 0.6/2.1 MB 466.2 kB/s eta 0:00:04\n",
      "   ------------ --------------------------- 0.6/2.1 MB 470.4 kB/s eta 0:00:04\n",
      "   ------------- -------------------------- 0.7/2.1 MB 478.8 kB/s eta 0:00:03\n",
      "   ------------- -------------------------- 0.7/2.1 MB 488.0 kB/s eta 0:00:03\n",
      "   -------------- ------------------------- 0.7/2.1 MB 493.3 kB/s eta 0:00:03\n",
      "   -------------- ------------------------- 0.8/2.1 MB 498.3 kB/s eta 0:00:03\n",
      "   --------------- ------------------------ 0.8/2.1 MB 510.0 kB/s eta 0:00:03\n",
      "   --------------- ------------------------ 0.8/2.1 MB 514.2 kB/s eta 0:00:03\n",
      "   ---------------- ----------------------- 0.8/2.1 MB 505.8 kB/s eta 0:00:03\n",
      "   ---------------- ----------------------- 0.9/2.1 MB 514.8 kB/s eta 0:00:03\n",
      "   ---------------- ----------------------- 0.9/2.1 MB 514.8 kB/s eta 0:00:03\n",
      "   ---------------- ----------------------- 0.9/2.1 MB 514.8 kB/s eta 0:00:03\n",
      "   ---------------- ----------------------- 0.9/2.1 MB 514.8 kB/s eta 0:00:03\n",
      "   ---------------- ----------------------- 0.9/2.1 MB 514.8 kB/s eta 0:00:03\n",
      "   ---------------- ----------------------- 0.9/2.1 MB 514.8 kB/s eta 0:00:03\n",
      "   -------------------- ------------------- 1.1/2.1 MB 536.8 kB/s eta 0:00:02\n",
      "   --------------------- ------------------ 1.1/2.1 MB 535.5 kB/s eta 0:00:02\n",
      "   --------------------- ------------------ 1.1/2.1 MB 532.2 kB/s eta 0:00:02\n",
      "   ---------------------- ----------------- 1.2/2.1 MB 536.7 kB/s eta 0:00:02\n",
      "   ----------------------- ---------------- 1.2/2.1 MB 543.1 kB/s eta 0:00:02\n",
      "   ------------------------ --------------- 1.3/2.1 MB 552.2 kB/s eta 0:00:02\n",
      "   ------------------------- -------------- 1.3/2.1 MB 558.1 kB/s eta 0:00:02\n",
      "   ------------------------- -------------- 1.3/2.1 MB 552.7 kB/s eta 0:00:02\n",
      "   -------------------------- ------------- 1.4/2.1 MB 558.3 kB/s eta 0:00:02\n",
      "   -------------------------- ------------- 1.4/2.1 MB 558.3 kB/s eta 0:00:02\n",
      "   -------------------------- ------------- 1.4/2.1 MB 558.3 kB/s eta 0:00:02\n",
      "   -------------------------- ------------- 1.4/2.1 MB 558.3 kB/s eta 0:00:02\n",
      "   -------------------------- ------------- 1.4/2.1 MB 558.3 kB/s eta 0:00:02\n",
      "   -------------------------- ------------- 1.4/2.1 MB 558.3 kB/s eta 0:00:02\n",
      "   -------------------------- ------------- 1.4/2.1 MB 558.3 kB/s eta 0:00:02\n",
      "   -------------------------- ------------- 1.4/2.1 MB 558.3 kB/s eta 0:00:02\n",
      "   -------------------------- ------------- 1.4/2.1 MB 558.3 kB/s eta 0:00:02\n",
      "   -------------------------- ------------- 1.4/2.1 MB 558.3 kB/s eta 0:00:02\n",
      "   -------------------------- ------------- 1.4/2.1 MB 558.3 kB/s eta 0:00:02\n",
      "   -------------------------- ------------- 1.4/2.1 MB 558.3 kB/s eta 0:00:02\n",
      "   -------------------------- ------------- 1.4/2.1 MB 558.3 kB/s eta 0:00:02\n",
      "   -------------------------- ------------- 1.4/2.1 MB 558.3 kB/s eta 0:00:02\n",
      "   -------------------------- ------------- 1.4/2.1 MB 558.3 kB/s eta 0:00:02\n",
      "   -------------------------- ------------- 1.4/2.1 MB 558.3 kB/s eta 0:00:02\n",
      "   -------------------------- ------------- 1.4/2.1 MB 423.2 kB/s eta 0:00:02\n",
      "   ------------------------------------ --- 1.9/2.1 MB 570.8 kB/s eta 0:00:01\n",
      "   ------------------------------------ --- 1.9/2.1 MB 570.8 kB/s eta 0:00:01\n",
      "   ------------------------------------ --- 1.9/2.1 MB 570.8 kB/s eta 0:00:01\n",
      "   ------------------------------------ --- 1.9/2.1 MB 570.8 kB/s eta 0:00:01\n",
      "   ------------------------------------ --- 1.9/2.1 MB 570.8 kB/s eta 0:00:01\n",
      "   ------------------------------------ --- 1.9/2.1 MB 570.8 kB/s eta 0:00:01\n",
      "   ------------------------------------- -- 2.0/2.1 MB 546.2 kB/s eta 0:00:01\n",
      "   -------------------------------------- - 2.0/2.1 MB 547.6 kB/s eta 0:00:01\n",
      "   ---------------------------------------  2.0/2.1 MB 552.3 kB/s eta 0:00:01\n",
      "   ---------------------------------------  2.1/2.1 MB 555.8 kB/s eta 0:00:01\n",
      "   ---------------------------------------  2.1/2.1 MB 555.8 kB/s eta 0:00:01\n",
      "   ---------------------------------------  2.1/2.1 MB 555.8 kB/s eta 0:00:01\n",
      "   ---------------------------------------- 2.1/2.1 MB 535.3 kB/s eta 0:00:00\n",
      "Using cached prettytable-3.10.0-py3-none-any.whl (28 kB)\n",
      "Downloading sqlparse-0.5.0-py3-none-any.whl (43 kB)\n",
      "   ---------------------------------------- 0.0/44.0 kB ? eta -:--:--\n",
      "   ---------------------------------------- 44.0/44.0 kB 717.7 kB/s eta 0:00:00\n",
      "Installing collected packages: sqlparse, sqlalchemy, prettytable, ipython-sql\n",
      "  Attempting uninstall: sqlalchemy\n",
      "    Found existing installation: SQLAlchemy 1.4.39\n",
      "    Uninstalling SQLAlchemy-1.4.39:\n",
      "      Successfully uninstalled SQLAlchemy-1.4.39\n",
      "Successfully installed ipython-sql-0.5.0 prettytable-3.10.0 sqlalchemy-2.0.29 sqlparse-0.5.0\n"
     ]
    }
   ],
   "source": [
    "!pip install ipython-sql"
   ]
  },
  {
   "cell_type": "code",
   "execution_count": 3,
   "id": "7a0ceaca",
   "metadata": {},
   "outputs": [],
   "source": [
    "df= pd.DataFrame({'name': ['Juan', 'Victoria', 'Mary'], \n",
    "                  'age': [23,34,43], \n",
    "                  'city': ['Miami', 'Buenos Aires','Santiago']})"
   ]
  },
  {
   "cell_type": "code",
   "execution_count": 4,
   "id": "68f4db63",
   "metadata": {},
   "outputs": [
    {
     "data": {
      "text/html": [
       "<div>\n",
       "<style scoped>\n",
       "    .dataframe tbody tr th:only-of-type {\n",
       "        vertical-align: middle;\n",
       "    }\n",
       "\n",
       "    .dataframe tbody tr th {\n",
       "        vertical-align: top;\n",
       "    }\n",
       "\n",
       "    .dataframe thead th {\n",
       "        text-align: right;\n",
       "    }\n",
       "</style>\n",
       "<table border=\"1\" class=\"dataframe\">\n",
       "  <thead>\n",
       "    <tr style=\"text-align: right;\">\n",
       "      <th></th>\n",
       "      <th>name</th>\n",
       "      <th>age</th>\n",
       "      <th>city</th>\n",
       "    </tr>\n",
       "  </thead>\n",
       "  <tbody>\n",
       "    <tr>\n",
       "      <th>0</th>\n",
       "      <td>Juan</td>\n",
       "      <td>23</td>\n",
       "      <td>Miami</td>\n",
       "    </tr>\n",
       "    <tr>\n",
       "      <th>1</th>\n",
       "      <td>Victoria</td>\n",
       "      <td>34</td>\n",
       "      <td>Buenos Aires</td>\n",
       "    </tr>\n",
       "    <tr>\n",
       "      <th>2</th>\n",
       "      <td>Mary</td>\n",
       "      <td>43</td>\n",
       "      <td>Santiago</td>\n",
       "    </tr>\n",
       "  </tbody>\n",
       "</table>\n",
       "</div>"
      ],
      "text/plain": [
       "       name  age          city\n",
       "0      Juan   23         Miami\n",
       "1  Victoria   34  Buenos Aires\n",
       "2      Mary   43      Santiago"
      ]
     },
     "execution_count": 4,
     "metadata": {},
     "output_type": "execute_result"
    }
   ],
   "source": [
    "df"
   ]
  },
  {
   "cell_type": "code",
   "execution_count": 5,
   "id": "800f44d9",
   "metadata": {},
   "outputs": [],
   "source": [
    "cnn = sqlite3.connect('jupyter_sql_tutorial.db')\n",
    "df.to_sql('people', cnn)\n",
    "%load_ext sql\n",
    "\n",
    "%sql sqlite:///jupyter_sql_tutorial.db"
   ]
  },
  {
   "cell_type": "code",
   "execution_count": 6,
   "id": "b05b8b30",
   "metadata": {},
   "outputs": [
    {
     "name": "stdout",
     "output_type": "stream",
     "text": [
      " * sqlite:///jupyter_sql_tutorial.db\n",
      "Done.\n"
     ]
    },
    {
     "data": {
      "text/html": [
       "<table>\n",
       "    <thead>\n",
       "        <tr>\n",
       "            <th>index</th>\n",
       "            <th>name</th>\n",
       "            <th>age</th>\n",
       "            <th>city</th>\n",
       "        </tr>\n",
       "    </thead>\n",
       "    <tbody>\n",
       "        <tr>\n",
       "            <td>0</td>\n",
       "            <td>Juan</td>\n",
       "            <td>23</td>\n",
       "            <td>Miami</td>\n",
       "        </tr>\n",
       "        <tr>\n",
       "            <td>1</td>\n",
       "            <td>Victoria</td>\n",
       "            <td>34</td>\n",
       "            <td>Buenos Aires</td>\n",
       "        </tr>\n",
       "        <tr>\n",
       "            <td>2</td>\n",
       "            <td>Mary</td>\n",
       "            <td>43</td>\n",
       "            <td>Santiago</td>\n",
       "        </tr>\n",
       "    </tbody>\n",
       "</table>"
      ],
      "text/plain": [
       "[(0, 'Juan', 23, 'Miami'),\n",
       " (1, 'Victoria', 34, 'Buenos Aires'),\n",
       " (2, 'Mary', 43, 'Santiago')]"
      ]
     },
     "execution_count": 6,
     "metadata": {},
     "output_type": "execute_result"
    }
   ],
   "source": [
    "%%sql\n",
    "SELECT *\n",
    "FROM people"
   ]
  },
  {
   "cell_type": "code",
   "execution_count": 7,
   "id": "4119006c",
   "metadata": {},
   "outputs": [
    {
     "name": "stdout",
     "output_type": "stream",
     "text": [
      " * sqlite:///jupyter_sql_tutorial.db\n",
      "Done.\n"
     ]
    },
    {
     "data": {
      "text/html": [
       "<table>\n",
       "    <thead>\n",
       "        <tr>\n",
       "            <th>age_sum</th>\n",
       "        </tr>\n",
       "    </thead>\n",
       "    <tbody>\n",
       "        <tr>\n",
       "            <td>100</td>\n",
       "        </tr>\n",
       "    </tbody>\n",
       "</table>"
      ],
      "text/plain": [
       "[(100,)]"
      ]
     },
     "execution_count": 7,
     "metadata": {},
     "output_type": "execute_result"
    }
   ],
   "source": [
    "%%sql\n",
    "SELECT sum(age) as 'age_sum'\n",
    "FROM people"
   ]
  },
  {
   "cell_type": "code",
   "execution_count": 8,
   "id": "e6938cdd",
   "metadata": {},
   "outputs": [
    {
     "name": "stdout",
     "output_type": "stream",
     "text": [
      " * sqlite:///jupyter_sql_tutorial.db\n",
      "Done.\n"
     ]
    },
    {
     "data": {
      "text/html": [
       "<table>\n",
       "    <thead>\n",
       "        <tr>\n",
       "            <th>count(city)</th>\n",
       "        </tr>\n",
       "    </thead>\n",
       "    <tbody>\n",
       "        <tr>\n",
       "            <td>3</td>\n",
       "        </tr>\n",
       "    </tbody>\n",
       "</table>"
      ],
      "text/plain": [
       "[(3,)]"
      ]
     },
     "execution_count": 8,
     "metadata": {},
     "output_type": "execute_result"
    }
   ],
   "source": [
    "%%sql\n",
    "SELECT count(city)\n",
    "FROM people \n"
   ]
  },
  {
   "cell_type": "code",
   "execution_count": 9,
   "id": "6da91a13",
   "metadata": {},
   "outputs": [
    {
     "name": "stdout",
     "output_type": "stream",
     "text": [
      " * sqlite:///jupyter_sql_tutorial.db\n",
      "Done.\n"
     ]
    },
    {
     "data": {
      "text/html": [
       "<table>\n",
       "    <thead>\n",
       "        <tr>\n",
       "            <th>age_sum</th>\n",
       "        </tr>\n",
       "    </thead>\n",
       "    <tbody>\n",
       "        <tr>\n",
       "            <td>33.333333333333336</td>\n",
       "        </tr>\n",
       "    </tbody>\n",
       "</table>"
      ],
      "text/plain": [
       "[(33.333333333333336,)]"
      ]
     },
     "execution_count": 9,
     "metadata": {},
     "output_type": "execute_result"
    }
   ],
   "source": [
    "%%sql\n",
    "SELECT avg(age) as 'age_sum'\n",
    "FROM people"
   ]
  },
  {
   "cell_type": "code",
   "execution_count": 10,
   "id": "8e94dc43",
   "metadata": {},
   "outputs": [
    {
     "name": "stdout",
     "output_type": "stream",
     "text": [
      " * sqlite:///jupyter_sql_tutorial.db\n",
      "Done.\n"
     ]
    },
    {
     "data": {
      "text/html": [
       "<table>\n",
       "    <thead>\n",
       "        <tr>\n",
       "            <th>age_sum</th>\n",
       "        </tr>\n",
       "    </thead>\n",
       "    <tbody>\n",
       "        <tr>\n",
       "            <td>43</td>\n",
       "        </tr>\n",
       "    </tbody>\n",
       "</table>"
      ],
      "text/plain": [
       "[(43,)]"
      ]
     },
     "execution_count": 10,
     "metadata": {},
     "output_type": "execute_result"
    }
   ],
   "source": [
    "%%sql\n",
    "SELECT max(age) as 'age_sum'\n",
    "FROM people"
   ]
  },
  {
   "cell_type": "code",
   "execution_count": 11,
   "id": "b848303f",
   "metadata": {},
   "outputs": [
    {
     "name": "stdout",
     "output_type": "stream",
     "text": [
      " * sqlite:///jupyter_sql_tutorial.db\n",
      "Done.\n"
     ]
    },
    {
     "data": {
      "text/html": [
       "<table>\n",
       "    <thead>\n",
       "        <tr>\n",
       "            <th>age_sum</th>\n",
       "        </tr>\n",
       "    </thead>\n",
       "    <tbody>\n",
       "        <tr>\n",
       "            <td>23</td>\n",
       "        </tr>\n",
       "    </tbody>\n",
       "</table>"
      ],
      "text/plain": [
       "[(23,)]"
      ]
     },
     "execution_count": 11,
     "metadata": {},
     "output_type": "execute_result"
    }
   ],
   "source": [
    "%%sql\n",
    "SELECT min(age) as 'age_sum'\n",
    "FROM people"
   ]
  },
  {
   "cell_type": "code",
   "execution_count": null,
   "id": "c44f9dcd",
   "metadata": {},
   "outputs": [],
   "source": []
  }
 ],
 "metadata": {
  "kernelspec": {
   "display_name": "Python 3 (ipykernel)",
   "language": "python",
   "name": "python3"
  },
  "language_info": {
   "codemirror_mode": {
    "name": "ipython",
    "version": 3
   },
   "file_extension": ".py",
   "mimetype": "text/x-python",
   "name": "python",
   "nbconvert_exporter": "python",
   "pygments_lexer": "ipython3",
   "version": "3.11.5"
  }
 },
 "nbformat": 4,
 "nbformat_minor": 5
}
