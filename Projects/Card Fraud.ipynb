{
 "cells": [
  {
   "cell_type": "markdown",
   "metadata": {},
   "source": [
    "## Instructions\n",
    "\n",
    "You are required to come up with a solution of the provided business case in the next section.\n",
    "\n",
    "# Submission Requirements:\n",
    "\n",
    " Updated Resume (at max of 2 Pages)\n",
    "\n",
    " Jupyter Notebook\n",
    "\n",
    "# Eligibility Criteria:\n",
    "\n",
    " Only college/university pass out or final semester students are eligible.\n",
    "\n",
    " Pass out students must have an aggregated of at least 60% passing grade.\n",
    "\n",
    "# Business Context\n",
    "\n",
    "This case requires trainees to develop a model for predicting fraudulent transactions for a\n",
    "financial company and use insights from the model to develop an actionable plan. Data for the\n",
    "case is available in CSV format having 6362620 rows and 10 columns.\n",
    "Candidates can use whatever method they wish to develop their machine learning model.\n",
    "Following usual model development procedures, the model would be estimated on the\n",
    "calibration data and tested on the validation data. This case requires both statistical analysis and\n",
    "creativity/judgment. We recommend you spend time on both fine-tuning and interpreting the\n",
    "results of your machine learning model.\n",
    "\n",
    "# Data Dictionary & Source Acquisition\n",
    "\n",
    " Data Dictionary: The data dictionary of the dataset can be found here.\n",
    "\n",
    " Data Source: The dataset can be found here.\n",
    "\n",
    "# Candidate Expectations\n",
    "\n",
    "Your task is to execute the process for proactive detection of fraud while answering following\n",
    "questions.\n",
    "\n",
    "1. Data cleaning including missing values, outliers and multi-collinearity.\n",
    "2. Describe your fraud detection model in elaboration.\n",
    "3. How did you select variables to be included in the model?\n",
    "4. Demonstrate the performance of the model by using best set of tools.\n",
    "5. What are the key factors that predict fraudulent customer?\n",
    "6. Do these factors make sense? If yes, How? If not, How not?\n",
    "7. What kind of prevention should be adopted while company update its infrastructure?\n",
    "8. Assuming these actions have been implemented, how would you determine if they work\n"
   ]
  },
  {
   "cell_type": "code",
   "execution_count": 20,
   "metadata": {},
   "outputs": [],
   "source": [
    "import pandas as pd\n",
    "import numpy as np\n",
    "import matplotlib.pyplot as plt\n",
    "import seaborn as sns  # For visualizations\n",
    "from sklearn.preprocessing import LabelEncoder, StandardScaler, OneHotEncoder  # For handling categorical and numerical features\n",
    "from sklearn.model_selection import train_test_split  # For splitting data into training and testing sets\n"
   ]
  },
  {
   "cell_type": "code",
   "execution_count": 21,
   "metadata": {},
   "outputs": [],
   "source": [
    "df = pd.read_csv(\"Fraud.csv\")\n"
   ]
  },
  {
   "cell_type": "code",
   "execution_count": null,
   "metadata": {},
   "outputs": [],
   "source": []
  }
 ],
 "metadata": {
  "kernelspec": {
   "display_name": "Python 3 (ipykernel)",
   "language": "python",
   "name": "python3"
  },
  "language_info": {
   "codemirror_mode": {
    "name": "ipython",
    "version": 3
   },
   "file_extension": ".py",
   "mimetype": "text/x-python",
   "name": "python",
   "nbconvert_exporter": "python",
   "pygments_lexer": "ipython3",
   "version": "3.11.5"
  }
 },
 "nbformat": 4,
 "nbformat_minor": 4
}
