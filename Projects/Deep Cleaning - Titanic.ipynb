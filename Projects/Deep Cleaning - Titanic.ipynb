{
 "cells": [
  {
   "cell_type": "markdown",
   "id": "78a1c206",
   "metadata": {},
   "source": [
    "## Introduction\n",
    "In this notebook, we will explore advanced data cleaning techniques\n",
    "using the \"Titanic: Machine Learning from Disaster\" dataset. This dataset includes information about Titanic\n",
    "passengers, such as age, sex, passenger class, and whether they survived. We will demonstrate how to\n",
    "handle missing values, detect outliers, and transform categorical variables.\n"
   ]
  },
  {
   "cell_type": "code",
   "execution_count": 1,
   "id": "d2724eff",
   "metadata": {},
   "outputs": [],
   "source": [
    "# Libraries we will be using today\n",
    "import pandas as pd\n",
    "import numpy as np\n",
    "from scipy import stats\n",
    "from sklearn.impute import KNNImputer\n",
    "from scipy.stats import boxcox\n",
    "import matplotlib.pyplot as plt\n"
   ]
  },
  {
   "cell_type": "code",
   "execution_count": 2,
   "id": "0671bcd2",
   "metadata": {},
   "outputs": [
    {
     "data": {
      "text/html": [
       "<div>\n",
       "<style scoped>\n",
       "    .dataframe tbody tr th:only-of-type {\n",
       "        vertical-align: middle;\n",
       "    }\n",
       "\n",
       "    .dataframe tbody tr th {\n",
       "        vertical-align: top;\n",
       "    }\n",
       "\n",
       "    .dataframe thead th {\n",
       "        text-align: right;\n",
       "    }\n",
       "</style>\n",
       "<table border=\"1\" class=\"dataframe\">\n",
       "  <thead>\n",
       "    <tr style=\"text-align: right;\">\n",
       "      <th></th>\n",
       "      <th>PassengerId</th>\n",
       "      <th>Survived</th>\n",
       "      <th>Pclass</th>\n",
       "      <th>Name</th>\n",
       "      <th>Sex</th>\n",
       "      <th>Age</th>\n",
       "      <th>SibSp</th>\n",
       "      <th>Parch</th>\n",
       "      <th>Ticket</th>\n",
       "      <th>Fare</th>\n",
       "      <th>Cabin</th>\n",
       "      <th>Embarked</th>\n",
       "    </tr>\n",
       "  </thead>\n",
       "  <tbody>\n",
       "    <tr>\n",
       "      <th>0</th>\n",
       "      <td>1</td>\n",
       "      <td>0</td>\n",
       "      <td>3</td>\n",
       "      <td>Braund, Mr. Owen Harris</td>\n",
       "      <td>male</td>\n",
       "      <td>22.0</td>\n",
       "      <td>1</td>\n",
       "      <td>0</td>\n",
       "      <td>A/5 21171</td>\n",
       "      <td>7.2500</td>\n",
       "      <td>NaN</td>\n",
       "      <td>S</td>\n",
       "    </tr>\n",
       "    <tr>\n",
       "      <th>1</th>\n",
       "      <td>2</td>\n",
       "      <td>1</td>\n",
       "      <td>1</td>\n",
       "      <td>Cumings, Mrs. John Bradley (Florence Briggs Th...</td>\n",
       "      <td>female</td>\n",
       "      <td>38.0</td>\n",
       "      <td>1</td>\n",
       "      <td>0</td>\n",
       "      <td>PC 17599</td>\n",
       "      <td>71.2833</td>\n",
       "      <td>C85</td>\n",
       "      <td>C</td>\n",
       "    </tr>\n",
       "    <tr>\n",
       "      <th>2</th>\n",
       "      <td>3</td>\n",
       "      <td>1</td>\n",
       "      <td>3</td>\n",
       "      <td>Heikkinen, Miss. Laina</td>\n",
       "      <td>female</td>\n",
       "      <td>26.0</td>\n",
       "      <td>0</td>\n",
       "      <td>0</td>\n",
       "      <td>STON/O2. 3101282</td>\n",
       "      <td>7.9250</td>\n",
       "      <td>NaN</td>\n",
       "      <td>S</td>\n",
       "    </tr>\n",
       "    <tr>\n",
       "      <th>3</th>\n",
       "      <td>4</td>\n",
       "      <td>1</td>\n",
       "      <td>1</td>\n",
       "      <td>Futrelle, Mrs. Jacques Heath (Lily May Peel)</td>\n",
       "      <td>female</td>\n",
       "      <td>35.0</td>\n",
       "      <td>1</td>\n",
       "      <td>0</td>\n",
       "      <td>113803</td>\n",
       "      <td>53.1000</td>\n",
       "      <td>C123</td>\n",
       "      <td>S</td>\n",
       "    </tr>\n",
       "    <tr>\n",
       "      <th>4</th>\n",
       "      <td>5</td>\n",
       "      <td>0</td>\n",
       "      <td>3</td>\n",
       "      <td>Allen, Mr. William Henry</td>\n",
       "      <td>male</td>\n",
       "      <td>35.0</td>\n",
       "      <td>0</td>\n",
       "      <td>0</td>\n",
       "      <td>373450</td>\n",
       "      <td>8.0500</td>\n",
       "      <td>NaN</td>\n",
       "      <td>S</td>\n",
       "    </tr>\n",
       "  </tbody>\n",
       "</table>\n",
       "</div>"
      ],
      "text/plain": [
       "   PassengerId  Survived  Pclass  \\\n",
       "0            1         0       3   \n",
       "1            2         1       1   \n",
       "2            3         1       3   \n",
       "3            4         1       1   \n",
       "4            5         0       3   \n",
       "\n",
       "                                                Name     Sex   Age  SibSp  \\\n",
       "0                            Braund, Mr. Owen Harris    male  22.0      1   \n",
       "1  Cumings, Mrs. John Bradley (Florence Briggs Th...  female  38.0      1   \n",
       "2                             Heikkinen, Miss. Laina  female  26.0      0   \n",
       "3       Futrelle, Mrs. Jacques Heath (Lily May Peel)  female  35.0      1   \n",
       "4                           Allen, Mr. William Henry    male  35.0      0   \n",
       "\n",
       "   Parch            Ticket     Fare Cabin Embarked  \n",
       "0      0         A/5 21171   7.2500   NaN        S  \n",
       "1      0          PC 17599  71.2833   C85        C  \n",
       "2      0  STON/O2. 3101282   7.9250   NaN        S  \n",
       "3      0            113803  53.1000  C123        S  \n",
       "4      0            373450   8.0500   NaN        S  "
      ]
     },
     "execution_count": 2,
     "metadata": {},
     "output_type": "execute_result"
    }
   ],
   "source": [
    "# Loading the Dataset\n",
    "df = pd.read_csv(\"Titanic-Dataset.csv\")\n",
    "df.head(5)\n"
   ]
  },
  {
   "cell_type": "markdown",
   "id": "2a97eed9",
   "metadata": {},
   "source": [
    "## 1. Identifying Outliers\n"
   ]
  },
  {
   "cell_type": "markdown",
   "id": "9e3d6175",
   "metadata": {},
   "source": [
    "### Identifying Outliers using IQR\n",
    "Outliers can significantly impact the performance of a model. We will detect and remove outliers in the 'Fare'\n",
    "column using the Interquartile Range (IQR) method."
   ]
  },
  {
   "cell_type": "markdown",
   "id": "0744be65",
   "metadata": {},
   "source": [
    "### Steps to Identify Outliers using IQR:\n",
    "1. Calculate the first quartile (Q1) and third quartile (Q3) of the 'Fare' column.\n",
    "2. Compute the Interquartile Range (IQR) as the difference between Q3 and Q1.\n",
    "3. Define the lower and upper bounds as Q1 - 1.5 * IQR and Q3 + 1.5 * IQR, respectively.\n",
    "4. Identify and filter out the data points that lie outside these bounds."
   ]
  },
  {
   "cell_type": "code",
   "execution_count": 4,
   "id": "87addd2e",
   "metadata": {},
   "outputs": [
    {
     "name": "stdout",
     "output_type": "stream",
     "text": [
      "Number of outliers detected: 116\n",
      "Data after removing outliers:\n",
      "(775, 12)\n"
     ]
    }
   ],
   "source": [
    "# Calculate Q1 (25th percentile) and Q3 (75th percentile)\n",
    "Q1 = df['Fare'].quantile(0.25)\n",
    "Q3 = df['Fare'].quantile(0.75)\n",
    "IQR = Q3 - Q1\n",
    "# Define lower and upper bounds for outliers\n",
    "lower_bound = Q1 - 1.5 * IQR\n",
    "upper_bound = Q3 + 1.5 * IQR\n",
    "# Identify outliers\n",
    "outliers = df[(df['Fare'] < lower_bound) | (df['Fare'] > upper_bound)]\n",
    "# Filter out the outliers\n",
    "df_filtered = df[(df['Fare'] >= lower_bound) & (df['Fare'] <= upper_bound)]\n",
    "print(\"Number of outliers detected:\", len(outliers))\n",
    "print(\"Data after removing outliers:\")\n",
    "print(df_filtered.shape)\n"
   ]
  },
  {
   "cell_type": "markdown",
   "id": "bdb9dfed",
   "metadata": {},
   "source": [
    "# Identifying Outliers using Z-score\n",
    "The Z-score method is another way to detect outliers by measuring how many standard deviations a data\n",
    "point is from the mean. Typically, a Z-score threshold of 3 or -3 is used to identify outliers.\n",
    "### Steps to Identify Outliers using Z-score:\n",
    "1. Calculate the mean and standard deviation of the 'Fare' column.\n",
    "2. Compute the Z-score for each data point.\n",
    "3. Identify and filter out the data points with Z-scores greater than 3 or less than -3."
   ]
  },
  {
   "cell_type": "code",
   "execution_count": 6,
   "id": "e3dc3a61",
   "metadata": {},
   "outputs": [
    {
     "name": "stdout",
     "output_type": "stream",
     "text": [
      "Number of outliers detected using Z-score: 20\n",
      "Data after removing outliers using Z-score:\n",
      "(871, 13)\n"
     ]
    }
   ],
   "source": [
    "# Calculate the Z-scores of the 'Fare' column\n",
    "df['z_score'] = stats.zscore(df['Fare'])\n",
    "# Identify outliers based on Z-score\n",
    "z_score_threshold = 3\n",
    "outliers_z = df[(df['z_score'].abs() > z_score_threshold)]\n",
    "# Filter out the outliers\n",
    "df_filtered_z = df[(df['z_score'].abs() <= z_score_threshold)]\n",
    "print(\"Number of outliers detected using Z-score:\", len(outliers_z))\n",
    "print(\"Data after removing outliers using Z-score:\")\n",
    "print(df_filtered_z.shape)\n"
   ]
  },
  {
   "cell_type": "markdown",
   "id": "3c6aa504",
   "metadata": {},
   "source": [
    "# 2. Imputation\n",
    "## Simple Imputation\n",
    "Imputation is the process of replacing missing values in the dataset. Simple imputation involves filling\n",
    "missing values with a central tendency measure like mean, median, or mode.\n",
    "### Steps for Simple Imputation:\n",
    "1. Identify the columns with missing values.\n",
    "2. Replace missing values with the mean, median, or mode of the column.\n",
    "We'll demonstrate this by imputing missing values in the 'Age' column with the median age.\n",
    "#"
   ]
  },
  {
   "cell_type": "code",
   "execution_count": 7,
   "id": "758ff8ac",
   "metadata": {},
   "outputs": [
    {
     "name": "stdout",
     "output_type": "stream",
     "text": [
      "PassengerId      0\n",
      "Survived         0\n",
      "Pclass           0\n",
      "Name             0\n",
      "Sex              0\n",
      "Age            177\n",
      "SibSp            0\n",
      "Parch            0\n",
      "Ticket           0\n",
      "Fare             0\n",
      "Cabin          687\n",
      "Embarked         2\n",
      "z_score          0\n",
      "dtype: int64\n",
      "Number of missing values after imputation:\n",
      "PassengerId      0\n",
      "Survived         0\n",
      "Pclass           0\n",
      "Name             0\n",
      "Sex              0\n",
      "Age              0\n",
      "SibSp            0\n",
      "Parch            0\n",
      "Ticket           0\n",
      "Fare             0\n",
      "Cabin          687\n",
      "Embarked         2\n",
      "z_score          0\n",
      "dtype: int64\n"
     ]
    }
   ],
   "source": [
    "# Display the number of missing values in each column\n",
    "print(df.isnull().sum())\n",
    "# Fill missing values in 'Age' with the median age\n",
    "df['Age'].fillna(df['Age'].median(), inplace=True)\n",
    "# Check if the missing values have been filled\n",
    "print(\"Number of missing values after imputation:\")\n",
    "print(df.isnull().sum())\n"
   ]
  },
  {
   "cell_type": "markdown",
   "id": "6c0fcc08",
   "metadata": {},
   "source": [
    "## Advanced Imputation using KNN\n",
    "K-Nearest Neighbors (KNN) imputation is an advanced method that fills missing values by considering the\n",
    "'k' nearest neighbors' values. It works well when the dataset has patterns that can be leveraged to predict\n",
    "missing values.\n",
    "### Steps for KNN Imputation:\n",
    "1. Select the columns relevant for imputation.\n",
    "2. Apply KNN imputer to fill the missing values.\n",
    "We'll use the KNN imputer to handle missing values in the 'Age' column."
   ]
  },
  {
   "cell_type": "code",
   "execution_count": 8,
   "id": "acba3f46",
   "metadata": {},
   "outputs": [
    {
     "name": "stdout",
     "output_type": "stream",
     "text": [
      "Number of missing values after KNN imputation:\n",
      "PassengerId      0\n",
      "Survived         0\n",
      "Pclass           0\n",
      "Name             0\n",
      "Sex              0\n",
      "Age              0\n",
      "SibSp            0\n",
      "Parch            0\n",
      "Ticket           0\n",
      "Fare             0\n",
      "Cabin          687\n",
      "Embarked         2\n",
      "z_score          0\n",
      "dtype: int64\n"
     ]
    }
   ],
   "source": [
    "# Select relevant columns for imputation\n",
    "df_impute = df[['Age', 'Pclass', 'SibSp', 'Parch', 'Fare']]\n",
    "# Apply KNN Imputer\n",
    "imputer = KNNImputer(n_neighbors=5)\n",
    "df_imputed = pd.DataFrame(imputer.fit_transform(df_impute), columns=df_impute.columns)\n",
    "# Replace the original 'Age' column with the imputed values\n",
    "df['Age'] = df_imputed['Age']\n",
    "# Check if the missing values have been filled\n",
    "print(\"Number of missing values after KNN imputation:\")\n",
    "print(df.isnull().sum())\n"
   ]
  },
  {
   "cell_type": "markdown",
   "id": "7dd76d71",
   "metadata": {},
   "source": [
    "# 3. Transformation\n",
    "## Log Transformation\n",
    "Log transformation is used to stabilize the variance of data and make it more normally distributed. It's\n",
    "particularly useful for right-skewed data.\n",
    "### Steps for Log Transformation:\n",
    "1. Identify the skewed column in the dataset.\n",
    "2. Apply the log transformation to the column.\n",
    "We'll apply the log transformation to the 'Fare' column to reduce its skewness"
   ]
  },
  {
   "cell_type": "code",
   "execution_count": 9,
   "id": "aecc8c2a",
   "metadata": {
    "scrolled": true
   },
   "outputs": [
    {
     "data": {
      "image/png": "[encoded data removed]",
      "text/plain": [
       "<Figure size 800x400 with 2 Axes>"
      ]
     },
     "metadata": {},
     "output_type": "display_data"
    }
   ],
   "source": [
    "# Display the distribution of the 'Fare' column before transformation\n",
    "plt.figure(figsize=(8, 4))\n",
    "plt.subplot(1, 2, 1)\n",
    "plt.hist(df['Fare'], bins=50, color='blue', alpha=0.7)\n",
    "plt.title('Before Log Transformation')\n",
    "plt.xlabel('Fare')\n",
    "plt.ylabel('Frequency')\n",
    "# Apply log transformation (adding 1 to avoid log(0))\n",
    "df['Fare_log'] = np.log(df['Fare'] + 1)\n",
    "# Display the distribution of the 'Fare' column after transformation\n",
    "plt.subplot(1, 2, 2)\n",
    "plt.hist(df['Fare_log'], bins=50, color='green', alpha=0.7)\n",
    "plt.title('After Log Transformation')\n",
    "plt.xlabel('Fare (Log)')\n",
    "plt.ylabel('Frequency')\n",
    "plt.tight_layout()\n",
    "plt.show()\n"
   ]
  },
  {
   "cell_type": "markdown",
   "id": "acc7e5e5",
   "metadata": {},
   "source": [
    "## Box-Cox Transformation\n",
    "The Box-Cox transformation is a more generalized transformation technique that can stabilize variance and\n",
    "make the data more normally distributed. It can be applied to positive data only.\n",
    "### Steps for Box-Cox Transformation:\n",
    "1. Identify the skewed column in the dataset.\n",
    "2. Apply the Box-Cox transformation to the column.\n",
    "We'll apply the Box-Cox transformation to the 'Fare' column"
   ]
  },
  {
   "cell_type": "code",
   "execution_count": 10,
   "id": "f0dce065",
   "metadata": {},
   "outputs": [
    {
     "data": {
      "image/png": "[encoded data removed]",
      "text/plain": [
       "<Figure size 800x400 with 2 Axes>"
      ]
     },
     "metadata": {},
     "output_type": "display_data"
    }
   ],
   "source": [
    "# Apply Box-Cox transformation (Box-Cox requires strictly positive values)\n",
    "df['Fare_boxcox'], fitted_lambda = boxcox(df['Fare'] + 1) # Adding 1 to avoid zero values\n",
    "# Display the distribution of the 'Fare' column after Box-Cox transformation\n",
    "plt.figure(figsize=(8, 4))\n",
    "plt.subplot(1, 2, 1)\n",
    "plt.hist(df['Fare'], bins=50, color='blue', alpha=0.7)\n",
    "plt.title('Before Box-Cox Transformation')\n",
    "plt.xlabel('Fare')\n",
    "plt.ylabel('Frequency')\n",
    "plt.subplot(1, 2, 2)\n",
    "plt.hist(df['Fare_boxcox'], bins=50, color='orange', alpha=0.7)\n",
    "plt.title('After Box-Cox Transformation')\n",
    "plt.xlabel('Fare (Box-Cox)')\n",
    "plt.ylabel('Frequency')\n",
    "plt.tight_layout()\n",
    "plt.show()"
   ]
  },
  {
   "cell_type": "code",
   "execution_count": null,
   "id": "66ec85fc",
   "metadata": {},
   "outputs": [],
   "source": []
  }
 ],
 "metadata": {
  "kernelspec": {
   "display_name": "Python 3 (ipykernel)",
   "language": "python",
   "name": "python3"
  },
  "language_info": {
   "codemirror_mode": {
    "name": "ipython",
    "version": 3
   },
   "file_extension": ".py",
   "mimetype": "text/x-python",
   "name": "python",
   "nbconvert_exporter": "python",
   "pygments_lexer": "ipython3",
   "version": "3.11.5"
  }
 },
 "nbformat": 4,
 "nbformat_minor": 5
}
