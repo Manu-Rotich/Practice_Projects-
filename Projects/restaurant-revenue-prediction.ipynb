{
 "cells": [
  {
   "cell_type": "code",
   "execution_count": 1,
   "id": "962e5000",
   "metadata": {
    "execution": {
     "iopub.execute_input": "2023-09-22T14:45:07.702132Z",
     "iopub.status.busy": "2023-09-22T14:45:07.700796Z",
     "iopub.status.idle": "2023-09-22T14:45:23.899307Z",
     "shell.execute_reply": "2023-09-22T14:45:23.897971Z"
    },
    "papermill": {
     "duration": 16.222716,
     "end_time": "2023-09-22T14:45:23.902212",
     "exception": false,
     "start_time": "2023-09-22T14:45:07.679496",
     "status": "completed"
    },
    "tags": []
   },
   "outputs": [
    {
     "ename": "ImportError",
     "evalue": "cannot import name '_MissingValues' from 'sklearn.utils._param_validation' (C:\\Users\\HP\\anaconda3\\Lib\\site-packages\\sklearn\\utils\\_param_validation.py)",
     "output_type": "error",
     "traceback": [
      "\u001b[1;31m---------------------------------------------------------------------------\u001b[0m",
      "\u001b[1;31mImportError\u001b[0m                               Traceback (most recent call last)",
      "Cell \u001b[1;32mIn[1], line 10\u001b[0m\n\u001b[0;32m      8\u001b[0m \u001b[38;5;28;01mfrom\u001b[39;00m \u001b[38;5;21;01msklearn\u001b[39;00m\u001b[38;5;21;01m.\u001b[39;00m\u001b[38;5;21;01mensemble\u001b[39;00m \u001b[38;5;28;01mimport\u001b[39;00m RandomForestRegressor,RandomForestClassifier\n\u001b[0;32m      9\u001b[0m \u001b[38;5;28;01mfrom\u001b[39;00m \u001b[38;5;21;01m__future__\u001b[39;00m \u001b[38;5;28;01mimport\u001b[39;00m unicode_literals\n\u001b[1;32m---> 10\u001b[0m \u001b[38;5;28;01mfrom\u001b[39;00m \u001b[38;5;21;01mimblearn\u001b[39;00m\u001b[38;5;21;01m.\u001b[39;00m\u001b[38;5;21;01mcombine\u001b[39;00m \u001b[38;5;28;01mimport\u001b[39;00m SMOTETomek\n\u001b[0;32m     11\u001b[0m \u001b[38;5;28;01mfrom\u001b[39;00m \u001b[38;5;21;01mmath\u001b[39;00m \u001b[38;5;28;01mimport\u001b[39;00m \u001b[38;5;241m*\u001b[39m\n\u001b[0;32m     12\u001b[0m \u001b[38;5;28;01mfrom\u001b[39;00m \u001b[38;5;21;01msklearn\u001b[39;00m\u001b[38;5;21;01m.\u001b[39;00m\u001b[38;5;21;01mmodel_selection\u001b[39;00m \u001b[38;5;28;01mimport\u001b[39;00m cross_validate,cross_val_score\n",
      "File \u001b[1;32m~\\anaconda3\\Lib\\site-packages\\imblearn\\__init__.py:52\u001b[0m\n\u001b[0;32m     48\u001b[0m     sys\u001b[38;5;241m.\u001b[39mstderr\u001b[38;5;241m.\u001b[39mwrite(\u001b[38;5;124m\"\u001b[39m\u001b[38;5;124mPartial import of imblearn during the build process.\u001b[39m\u001b[38;5;130;01m\\n\u001b[39;00m\u001b[38;5;124m\"\u001b[39m)\n\u001b[0;32m     49\u001b[0m     \u001b[38;5;66;03m# We are not importing the rest of scikit-learn during the build\u001b[39;00m\n\u001b[0;32m     50\u001b[0m     \u001b[38;5;66;03m# process, as it may not be compiled yet\u001b[39;00m\n\u001b[0;32m     51\u001b[0m \u001b[38;5;28;01melse\u001b[39;00m:\n\u001b[1;32m---> 52\u001b[0m     \u001b[38;5;28;01mfrom\u001b[39;00m \u001b[38;5;21;01m.\u001b[39;00m \u001b[38;5;28;01mimport\u001b[39;00m (\n\u001b[0;32m     53\u001b[0m         combine,\n\u001b[0;32m     54\u001b[0m         ensemble,\n\u001b[0;32m     55\u001b[0m         exceptions,\n\u001b[0;32m     56\u001b[0m         metrics,\n\u001b[0;32m     57\u001b[0m         over_sampling,\n\u001b[0;32m     58\u001b[0m         pipeline,\n\u001b[0;32m     59\u001b[0m         tensorflow,\n\u001b[0;32m     60\u001b[0m         under_sampling,\n\u001b[0;32m     61\u001b[0m         utils,\n\u001b[0;32m     62\u001b[0m     )\n\u001b[0;32m     63\u001b[0m     \u001b[38;5;28;01mfrom\u001b[39;00m \u001b[38;5;21;01m.\u001b[39;00m\u001b[38;5;21;01m_version\u001b[39;00m \u001b[38;5;28;01mimport\u001b[39;00m __version__\n\u001b[0;32m     64\u001b[0m     \u001b[38;5;28;01mfrom\u001b[39;00m \u001b[38;5;21;01m.\u001b[39;00m\u001b[38;5;21;01mbase\u001b[39;00m \u001b[38;5;28;01mimport\u001b[39;00m FunctionSampler\n",
      "File \u001b[1;32m~\\anaconda3\\Lib\\site-packages\\imblearn\\combine\\__init__.py:5\u001b[0m\n\u001b[0;32m      1\u001b[0m \u001b[38;5;124;03m\"\"\"The :mod:`imblearn.combine` provides methods which combine\u001b[39;00m\n\u001b[0;32m      2\u001b[0m \u001b[38;5;124;03mover-sampling and under-sampling.\u001b[39;00m\n\u001b[0;32m      3\u001b[0m \u001b[38;5;124;03m\"\"\"\u001b[39;00m\n\u001b[1;32m----> 5\u001b[0m \u001b[38;5;28;01mfrom\u001b[39;00m \u001b[38;5;21;01m.\u001b[39;00m\u001b[38;5;21;01m_smote_enn\u001b[39;00m \u001b[38;5;28;01mimport\u001b[39;00m SMOTEENN\n\u001b[0;32m      6\u001b[0m \u001b[38;5;28;01mfrom\u001b[39;00m \u001b[38;5;21;01m.\u001b[39;00m\u001b[38;5;21;01m_smote_tomek\u001b[39;00m \u001b[38;5;28;01mimport\u001b[39;00m SMOTETomek\n\u001b[0;32m      8\u001b[0m __all__ \u001b[38;5;241m=\u001b[39m [\u001b[38;5;124m\"\u001b[39m\u001b[38;5;124mSMOTEENN\u001b[39m\u001b[38;5;124m\"\u001b[39m, \u001b[38;5;124m\"\u001b[39m\u001b[38;5;124mSMOTETomek\u001b[39m\u001b[38;5;124m\"\u001b[39m]\n",
      "File \u001b[1;32m~\\anaconda3\\Lib\\site-packages\\imblearn\\combine\\_smote_enn.py:12\u001b[0m\n\u001b[0;32m      9\u001b[0m \u001b[38;5;28;01mfrom\u001b[39;00m \u001b[38;5;21;01msklearn\u001b[39;00m\u001b[38;5;21;01m.\u001b[39;00m\u001b[38;5;21;01mbase\u001b[39;00m \u001b[38;5;28;01mimport\u001b[39;00m clone\n\u001b[0;32m     10\u001b[0m \u001b[38;5;28;01mfrom\u001b[39;00m \u001b[38;5;21;01msklearn\u001b[39;00m\u001b[38;5;21;01m.\u001b[39;00m\u001b[38;5;21;01mutils\u001b[39;00m \u001b[38;5;28;01mimport\u001b[39;00m check_X_y\n\u001b[1;32m---> 12\u001b[0m \u001b[38;5;28;01mfrom\u001b[39;00m \u001b[38;5;21;01m.\u001b[39;00m\u001b[38;5;21;01m.\u001b[39;00m\u001b[38;5;21;01mbase\u001b[39;00m \u001b[38;5;28;01mimport\u001b[39;00m BaseSampler\n\u001b[0;32m     13\u001b[0m \u001b[38;5;28;01mfrom\u001b[39;00m \u001b[38;5;21;01m.\u001b[39;00m\u001b[38;5;21;01m.\u001b[39;00m\u001b[38;5;21;01mover_sampling\u001b[39;00m \u001b[38;5;28;01mimport\u001b[39;00m SMOTE\n\u001b[0;32m     14\u001b[0m \u001b[38;5;28;01mfrom\u001b[39;00m \u001b[38;5;21;01m.\u001b[39;00m\u001b[38;5;21;01m.\u001b[39;00m\u001b[38;5;21;01mover_sampling\u001b[39;00m\u001b[38;5;21;01m.\u001b[39;00m\u001b[38;5;21;01mbase\u001b[39;00m \u001b[38;5;28;01mimport\u001b[39;00m BaseOverSampler\n",
      "File \u001b[1;32m~\\anaconda3\\Lib\\site-packages\\imblearn\\base.py:21\u001b[0m\n\u001b[0;32m     18\u001b[0m \u001b[38;5;28;01mfrom\u001b[39;00m \u001b[38;5;21;01msklearn\u001b[39;00m\u001b[38;5;21;01m.\u001b[39;00m\u001b[38;5;21;01mutils\u001b[39;00m\u001b[38;5;21;01m.\u001b[39;00m\u001b[38;5;21;01mmulticlass\u001b[39;00m \u001b[38;5;28;01mimport\u001b[39;00m check_classification_targets\n\u001b[0;32m     20\u001b[0m \u001b[38;5;28;01mfrom\u001b[39;00m \u001b[38;5;21;01m.\u001b[39;00m\u001b[38;5;21;01mutils\u001b[39;00m \u001b[38;5;28;01mimport\u001b[39;00m check_sampling_strategy, check_target_type\n\u001b[1;32m---> 21\u001b[0m \u001b[38;5;28;01mfrom\u001b[39;00m \u001b[38;5;21;01m.\u001b[39;00m\u001b[38;5;21;01mutils\u001b[39;00m\u001b[38;5;21;01m.\u001b[39;00m\u001b[38;5;21;01m_param_validation\u001b[39;00m \u001b[38;5;28;01mimport\u001b[39;00m validate_parameter_constraints\n\u001b[0;32m     22\u001b[0m \u001b[38;5;28;01mfrom\u001b[39;00m \u001b[38;5;21;01m.\u001b[39;00m\u001b[38;5;21;01mutils\u001b[39;00m\u001b[38;5;21;01m.\u001b[39;00m\u001b[38;5;21;01m_validation\u001b[39;00m \u001b[38;5;28;01mimport\u001b[39;00m ArraysTransformer\n\u001b[0;32m     25\u001b[0m \u001b[38;5;28;01mclass\u001b[39;00m \u001b[38;5;21;01mSamplerMixin\u001b[39;00m(BaseEstimator, metaclass\u001b[38;5;241m=\u001b[39mABCMeta):\n",
      "File \u001b[1;32m~\\anaconda3\\Lib\\site-packages\\imblearn\\utils\\_param_validation.py:908\u001b[0m\n\u001b[0;32m    906\u001b[0m \u001b[38;5;28;01mfrom\u001b[39;00m \u001b[38;5;21;01msklearn\u001b[39;00m\u001b[38;5;21;01m.\u001b[39;00m\u001b[38;5;21;01mutils\u001b[39;00m\u001b[38;5;21;01m.\u001b[39;00m\u001b[38;5;21;01m_param_validation\u001b[39;00m \u001b[38;5;28;01mimport\u001b[39;00m generate_valid_param  \u001b[38;5;66;03m# noqa\u001b[39;00m\n\u001b[0;32m    907\u001b[0m \u001b[38;5;28;01mfrom\u001b[39;00m \u001b[38;5;21;01msklearn\u001b[39;00m\u001b[38;5;21;01m.\u001b[39;00m\u001b[38;5;21;01mutils\u001b[39;00m\u001b[38;5;21;01m.\u001b[39;00m\u001b[38;5;21;01m_param_validation\u001b[39;00m \u001b[38;5;28;01mimport\u001b[39;00m validate_parameter_constraints  \u001b[38;5;66;03m# noqa\u001b[39;00m\n\u001b[1;32m--> 908\u001b[0m \u001b[38;5;28;01mfrom\u001b[39;00m \u001b[38;5;21;01msklearn\u001b[39;00m\u001b[38;5;21;01m.\u001b[39;00m\u001b[38;5;21;01mutils\u001b[39;00m\u001b[38;5;21;01m.\u001b[39;00m\u001b[38;5;21;01m_param_validation\u001b[39;00m \u001b[38;5;28;01mimport\u001b[39;00m (\n\u001b[0;32m    909\u001b[0m     HasMethods,\n\u001b[0;32m    910\u001b[0m     Hidden,\n\u001b[0;32m    911\u001b[0m     Interval,\n\u001b[0;32m    912\u001b[0m     Options,\n\u001b[0;32m    913\u001b[0m     StrOptions,\n\u001b[0;32m    914\u001b[0m     _ArrayLikes,\n\u001b[0;32m    915\u001b[0m     _Booleans,\n\u001b[0;32m    916\u001b[0m     _Callables,\n\u001b[0;32m    917\u001b[0m     _CVObjects,\n\u001b[0;32m    918\u001b[0m     _InstancesOf,\n\u001b[0;32m    919\u001b[0m     _IterablesNotString,\n\u001b[0;32m    920\u001b[0m     _MissingValues,\n\u001b[0;32m    921\u001b[0m     _NoneConstraint,\n\u001b[0;32m    922\u001b[0m     _PandasNAConstraint,\n\u001b[0;32m    923\u001b[0m     _RandomStates,\n\u001b[0;32m    924\u001b[0m     _SparseMatrices,\n\u001b[0;32m    925\u001b[0m     _VerboseHelper,\n\u001b[0;32m    926\u001b[0m     make_constraint,\n\u001b[0;32m    927\u001b[0m     validate_params,\n\u001b[0;32m    928\u001b[0m )\n",
      "\u001b[1;31mImportError\u001b[0m: cannot import name '_MissingValues' from 'sklearn.utils._param_validation' (C:\\Users\\HP\\anaconda3\\Lib\\site-packages\\sklearn\\utils\\_param_validation.py)"
     ]
    }
   ],
   "source": [
    "import numpy as np\n",
    "import re\n",
    "import pandas as pd\n",
    "from matplotlib import pyplot as plt\n",
    "from sklearn.impute import SimpleImputer\n",
    "from sklearn.model_selection import train_test_split\n",
    "from sklearn.svm import SVC\n",
    "from sklearn.ensemble import RandomForestRegressor,RandomForestClassifier\n",
    "from __future__ import unicode_literals\n",
    "from imblearn.combine import SMOTETomek\n",
    "from math import *\n",
    "from sklearn.model_selection import cross_validate,cross_val_score\n",
    "from sklearn.metrics import roc_curve, roc_auc_score\n",
    "from IPython.core import display as ICD\n",
    "from xgboost import XGBRegressor,XGBClassifier\n",
    "from catboost import CatBoostRegressor,CatBoostClassifier\n",
    "from lightgbm import LGBMClassifier,LGBMRegressor\n",
    "from imblearn.over_sampling import SMOTE\n",
    "from sklearn.metrics import recall_score,precision_score\n",
    "from holidays import CountryHoliday\n",
    "from imblearn.combine import SMOTEENN\n",
    "from sklearn.linear_model import LinearRegression,Ridge,Lasso,RidgeCV,LogisticRegression,ElasticNet\n",
    "from sklearn.ensemble import BaggingRegressor,GradientBoostingRegressor,AdaBoostRegressor\n",
    "from sklearn.ensemble import BaggingClassifier,GradientBoostingClassifier,AdaBoostClassifier\n",
    "from sklearn.svm import SVR\n",
    "from sklearn.model_selection import GridSearchCV\n",
    "import eli5\n",
    "from sklearn.neighbors import KNeighborsRegressor,KNeighborsClassifier\n",
    "from sklearn.preprocessing import LabelEncoder\n",
    "from sklearn.neighbors import NearestCentroid\n",
    "from sklearn.metrics import classification_report, f1_score,accuracy_score ,confusion_matrix\n",
    "from sklearn.metrics import confusion_matrix\n",
    "from collections import Counter\n",
    "from sklearn.metrics import mean_squared_error,mean_absolute_error\n",
    "from sklearn.preprocessing import StandardScaler,MinMaxScaler\n",
    "from sklearn.metrics import r2_score\n",
    "from sklearn.tree import DecisionTreeClassifier,DecisionTreeRegressor\n",
    "from sklearn.ensemble import IsolationForest\n",
    "from sklearn.base import BaseEstimator,TransformerMixin\n",
    "from sklearn.pipeline import Pipeline\n",
    "import matplotlib.gridspec as gridspec\n",
    "from sklearn.impute import KNNImputer\n",
    "from sklearn.model_selection import RandomizedSearchCV,GridSearchCV\n",
    "import seaborn as sns\n",
    "import warnings\n",
    "from warnings import simplefilter\n",
    "import ast\n",
    "import sklearn\n",
    "simplefilter(action='ignore', category=FutureWarning)\n",
    "pd.options.mode.chained_assignment = None  # default='warn'\n",
    "from warnings import simplefilter\n",
    "# ignore all future warnings\n",
    "simplefilter(action='ignore', category=FutureWarning)\n",
    "import warnings\n",
    "warnings.filterwarnings(\"ignore\")\n",
    "pd.set_option('display.max_columns', None)\n",
    "import warnings\n",
    "with warnings.catch_warnings():\n",
    "    warnings.simplefilter(action='ignore', category=pd.errors.PerformanceWarning)"
   ]
  },
  {
   "cell_type": "code",
   "execution_count": 2,
   "id": "0007c18a",
   "metadata": {
    "execution": {
     "iopub.execute_input": "2023-09-22T14:45:23.941777Z",
     "iopub.status.busy": "2023-09-22T14:45:23.941002Z",
     "iopub.status.idle": "2023-09-22T14:45:24.575676Z",
     "shell.execute_reply": "2023-09-22T14:45:24.574336Z"
    },
    "papermill": {
     "duration": 0.657798,
     "end_time": "2023-09-22T14:45:24.578789",
     "exception": false,
     "start_time": "2023-09-22T14:45:23.920991",
     "status": "completed"
    },
    "tags": []
   },
   "outputs": [
    {
     "ename": "FileNotFoundError",
     "evalue": "[Errno 2] No such file or directory: '/kaggle/input/restaurant-revenue-prediction/train.csv.zip'",
     "output_type": "error",
     "traceback": [
      "\u001b[1;31m---------------------------------------------------------------------------\u001b[0m",
      "\u001b[1;31mFileNotFoundError\u001b[0m                         Traceback (most recent call last)",
      "Cell \u001b[1;32mIn[2], line 1\u001b[0m\n\u001b[1;32m----> 1\u001b[0m train_df \u001b[38;5;241m=\u001b[39m pd\u001b[38;5;241m.\u001b[39mread_csv(\u001b[38;5;124m\"\u001b[39m\u001b[38;5;124m/kaggle/input/restaurant-revenue-prediction/train.csv.zip\u001b[39m\u001b[38;5;124m\"\u001b[39m)\n\u001b[0;32m      2\u001b[0m test_df \u001b[38;5;241m=\u001b[39m pd\u001b[38;5;241m.\u001b[39mread_csv(\u001b[38;5;124m\"\u001b[39m\u001b[38;5;124m/kaggle/input/restaurant-revenue-prediction/test.csv.zip\u001b[39m\u001b[38;5;124m\"\u001b[39m)\n",
      "File \u001b[1;32m~\\anaconda3\\Lib\\site-packages\\pandas\\io\\parsers\\readers.py:912\u001b[0m, in \u001b[0;36mread_csv\u001b[1;34m(filepath_or_buffer, sep, delimiter, header, names, index_col, usecols, dtype, engine, converters, true_values, false_values, skipinitialspace, skiprows, skipfooter, nrows, na_values, keep_default_na, na_filter, verbose, skip_blank_lines, parse_dates, infer_datetime_format, keep_date_col, date_parser, date_format, dayfirst, cache_dates, iterator, chunksize, compression, thousands, decimal, lineterminator, quotechar, quoting, doublequote, escapechar, comment, encoding, encoding_errors, dialect, on_bad_lines, delim_whitespace, low_memory, memory_map, float_precision, storage_options, dtype_backend)\u001b[0m\n\u001b[0;32m    899\u001b[0m kwds_defaults \u001b[38;5;241m=\u001b[39m _refine_defaults_read(\n\u001b[0;32m    900\u001b[0m     dialect,\n\u001b[0;32m    901\u001b[0m     delimiter,\n\u001b[1;32m   (...)\u001b[0m\n\u001b[0;32m    908\u001b[0m     dtype_backend\u001b[38;5;241m=\u001b[39mdtype_backend,\n\u001b[0;32m    909\u001b[0m )\n\u001b[0;32m    910\u001b[0m kwds\u001b[38;5;241m.\u001b[39mupdate(kwds_defaults)\n\u001b[1;32m--> 912\u001b[0m \u001b[38;5;28;01mreturn\u001b[39;00m _read(filepath_or_buffer, kwds)\n",
      "File \u001b[1;32m~\\anaconda3\\Lib\\site-packages\\pandas\\io\\parsers\\readers.py:577\u001b[0m, in \u001b[0;36m_read\u001b[1;34m(filepath_or_buffer, kwds)\u001b[0m\n\u001b[0;32m    574\u001b[0m _validate_names(kwds\u001b[38;5;241m.\u001b[39mget(\u001b[38;5;124m\"\u001b[39m\u001b[38;5;124mnames\u001b[39m\u001b[38;5;124m\"\u001b[39m, \u001b[38;5;28;01mNone\u001b[39;00m))\n\u001b[0;32m    576\u001b[0m \u001b[38;5;66;03m# Create the parser.\u001b[39;00m\n\u001b[1;32m--> 577\u001b[0m parser \u001b[38;5;241m=\u001b[39m TextFileReader(filepath_or_buffer, \u001b[38;5;241m*\u001b[39m\u001b[38;5;241m*\u001b[39mkwds)\n\u001b[0;32m    579\u001b[0m \u001b[38;5;28;01mif\u001b[39;00m chunksize \u001b[38;5;129;01mor\u001b[39;00m iterator:\n\u001b[0;32m    580\u001b[0m     \u001b[38;5;28;01mreturn\u001b[39;00m parser\n",
      "File \u001b[1;32m~\\anaconda3\\Lib\\site-packages\\pandas\\io\\parsers\\readers.py:1407\u001b[0m, in \u001b[0;36mTextFileReader.__init__\u001b[1;34m(self, f, engine, **kwds)\u001b[0m\n\u001b[0;32m   1404\u001b[0m     \u001b[38;5;28mself\u001b[39m\u001b[38;5;241m.\u001b[39moptions[\u001b[38;5;124m\"\u001b[39m\u001b[38;5;124mhas_index_names\u001b[39m\u001b[38;5;124m\"\u001b[39m] \u001b[38;5;241m=\u001b[39m kwds[\u001b[38;5;124m\"\u001b[39m\u001b[38;5;124mhas_index_names\u001b[39m\u001b[38;5;124m\"\u001b[39m]\n\u001b[0;32m   1406\u001b[0m \u001b[38;5;28mself\u001b[39m\u001b[38;5;241m.\u001b[39mhandles: IOHandles \u001b[38;5;241m|\u001b[39m \u001b[38;5;28;01mNone\u001b[39;00m \u001b[38;5;241m=\u001b[39m \u001b[38;5;28;01mNone\u001b[39;00m\n\u001b[1;32m-> 1407\u001b[0m \u001b[38;5;28mself\u001b[39m\u001b[38;5;241m.\u001b[39m_engine \u001b[38;5;241m=\u001b[39m \u001b[38;5;28mself\u001b[39m\u001b[38;5;241m.\u001b[39m_make_engine(f, \u001b[38;5;28mself\u001b[39m\u001b[38;5;241m.\u001b[39mengine)\n",
      "File \u001b[1;32m~\\anaconda3\\Lib\\site-packages\\pandas\\io\\parsers\\readers.py:1661\u001b[0m, in \u001b[0;36mTextFileReader._make_engine\u001b[1;34m(self, f, engine)\u001b[0m\n\u001b[0;32m   1659\u001b[0m     \u001b[38;5;28;01mif\u001b[39;00m \u001b[38;5;124m\"\u001b[39m\u001b[38;5;124mb\u001b[39m\u001b[38;5;124m\"\u001b[39m \u001b[38;5;129;01mnot\u001b[39;00m \u001b[38;5;129;01min\u001b[39;00m mode:\n\u001b[0;32m   1660\u001b[0m         mode \u001b[38;5;241m+\u001b[39m\u001b[38;5;241m=\u001b[39m \u001b[38;5;124m\"\u001b[39m\u001b[38;5;124mb\u001b[39m\u001b[38;5;124m\"\u001b[39m\n\u001b[1;32m-> 1661\u001b[0m \u001b[38;5;28mself\u001b[39m\u001b[38;5;241m.\u001b[39mhandles \u001b[38;5;241m=\u001b[39m get_handle(\n\u001b[0;32m   1662\u001b[0m     f,\n\u001b[0;32m   1663\u001b[0m     mode,\n\u001b[0;32m   1664\u001b[0m     encoding\u001b[38;5;241m=\u001b[39m\u001b[38;5;28mself\u001b[39m\u001b[38;5;241m.\u001b[39moptions\u001b[38;5;241m.\u001b[39mget(\u001b[38;5;124m\"\u001b[39m\u001b[38;5;124mencoding\u001b[39m\u001b[38;5;124m\"\u001b[39m, \u001b[38;5;28;01mNone\u001b[39;00m),\n\u001b[0;32m   1665\u001b[0m     compression\u001b[38;5;241m=\u001b[39m\u001b[38;5;28mself\u001b[39m\u001b[38;5;241m.\u001b[39moptions\u001b[38;5;241m.\u001b[39mget(\u001b[38;5;124m\"\u001b[39m\u001b[38;5;124mcompression\u001b[39m\u001b[38;5;124m\"\u001b[39m, \u001b[38;5;28;01mNone\u001b[39;00m),\n\u001b[0;32m   1666\u001b[0m     memory_map\u001b[38;5;241m=\u001b[39m\u001b[38;5;28mself\u001b[39m\u001b[38;5;241m.\u001b[39moptions\u001b[38;5;241m.\u001b[39mget(\u001b[38;5;124m\"\u001b[39m\u001b[38;5;124mmemory_map\u001b[39m\u001b[38;5;124m\"\u001b[39m, \u001b[38;5;28;01mFalse\u001b[39;00m),\n\u001b[0;32m   1667\u001b[0m     is_text\u001b[38;5;241m=\u001b[39mis_text,\n\u001b[0;32m   1668\u001b[0m     errors\u001b[38;5;241m=\u001b[39m\u001b[38;5;28mself\u001b[39m\u001b[38;5;241m.\u001b[39moptions\u001b[38;5;241m.\u001b[39mget(\u001b[38;5;124m\"\u001b[39m\u001b[38;5;124mencoding_errors\u001b[39m\u001b[38;5;124m\"\u001b[39m, \u001b[38;5;124m\"\u001b[39m\u001b[38;5;124mstrict\u001b[39m\u001b[38;5;124m\"\u001b[39m),\n\u001b[0;32m   1669\u001b[0m     storage_options\u001b[38;5;241m=\u001b[39m\u001b[38;5;28mself\u001b[39m\u001b[38;5;241m.\u001b[39moptions\u001b[38;5;241m.\u001b[39mget(\u001b[38;5;124m\"\u001b[39m\u001b[38;5;124mstorage_options\u001b[39m\u001b[38;5;124m\"\u001b[39m, \u001b[38;5;28;01mNone\u001b[39;00m),\n\u001b[0;32m   1670\u001b[0m )\n\u001b[0;32m   1671\u001b[0m \u001b[38;5;28;01massert\u001b[39;00m \u001b[38;5;28mself\u001b[39m\u001b[38;5;241m.\u001b[39mhandles \u001b[38;5;129;01mis\u001b[39;00m \u001b[38;5;129;01mnot\u001b[39;00m \u001b[38;5;28;01mNone\u001b[39;00m\n\u001b[0;32m   1672\u001b[0m f \u001b[38;5;241m=\u001b[39m \u001b[38;5;28mself\u001b[39m\u001b[38;5;241m.\u001b[39mhandles\u001b[38;5;241m.\u001b[39mhandle\n",
      "File \u001b[1;32m~\\anaconda3\\Lib\\site-packages\\pandas\\io\\common.py:782\u001b[0m, in \u001b[0;36mget_handle\u001b[1;34m(path_or_buf, mode, encoding, compression, memory_map, is_text, errors, storage_options)\u001b[0m\n\u001b[0;32m    777\u001b[0m \u001b[38;5;66;03m# ZIP Compression\u001b[39;00m\n\u001b[0;32m    778\u001b[0m \u001b[38;5;28;01melif\u001b[39;00m compression \u001b[38;5;241m==\u001b[39m \u001b[38;5;124m\"\u001b[39m\u001b[38;5;124mzip\u001b[39m\u001b[38;5;124m\"\u001b[39m:\n\u001b[0;32m    779\u001b[0m     \u001b[38;5;66;03m# error: Argument 1 to \"_BytesZipFile\" has incompatible type\u001b[39;00m\n\u001b[0;32m    780\u001b[0m     \u001b[38;5;66;03m# \"Union[str, BaseBuffer]\"; expected \"Union[Union[str, PathLike[str]],\u001b[39;00m\n\u001b[0;32m    781\u001b[0m     \u001b[38;5;66;03m# ReadBuffer[bytes], WriteBuffer[bytes]]\"\u001b[39;00m\n\u001b[1;32m--> 782\u001b[0m     handle \u001b[38;5;241m=\u001b[39m _BytesZipFile(\n\u001b[0;32m    783\u001b[0m         handle, ioargs\u001b[38;5;241m.\u001b[39mmode, \u001b[38;5;241m*\u001b[39m\u001b[38;5;241m*\u001b[39mcompression_args  \u001b[38;5;66;03m# type: ignore[arg-type]\u001b[39;00m\n\u001b[0;32m    784\u001b[0m     )\n\u001b[0;32m    785\u001b[0m     \u001b[38;5;28;01mif\u001b[39;00m handle\u001b[38;5;241m.\u001b[39mbuffer\u001b[38;5;241m.\u001b[39mmode \u001b[38;5;241m==\u001b[39m \u001b[38;5;124m\"\u001b[39m\u001b[38;5;124mr\u001b[39m\u001b[38;5;124m\"\u001b[39m:\n\u001b[0;32m    786\u001b[0m         handles\u001b[38;5;241m.\u001b[39mappend(handle)\n",
      "File \u001b[1;32m~\\anaconda3\\Lib\\site-packages\\pandas\\io\\common.py:1025\u001b[0m, in \u001b[0;36m_BytesZipFile.__init__\u001b[1;34m(self, file, mode, archive_name, **kwargs)\u001b[0m\n\u001b[0;32m   1021\u001b[0m kwargs\u001b[38;5;241m.\u001b[39msetdefault(\u001b[38;5;124m\"\u001b[39m\u001b[38;5;124mcompression\u001b[39m\u001b[38;5;124m\"\u001b[39m, zipfile\u001b[38;5;241m.\u001b[39mZIP_DEFLATED)\n\u001b[0;32m   1022\u001b[0m \u001b[38;5;66;03m# error: Argument 1 to \"ZipFile\" has incompatible type \"Union[\u001b[39;00m\n\u001b[0;32m   1023\u001b[0m \u001b[38;5;66;03m# Union[str, PathLike[str]], ReadBuffer[bytes], WriteBuffer[bytes]]\";\u001b[39;00m\n\u001b[0;32m   1024\u001b[0m \u001b[38;5;66;03m# expected \"Union[Union[str, PathLike[str]], IO[bytes]]\"\u001b[39;00m\n\u001b[1;32m-> 1025\u001b[0m \u001b[38;5;28mself\u001b[39m\u001b[38;5;241m.\u001b[39mbuffer \u001b[38;5;241m=\u001b[39m zipfile\u001b[38;5;241m.\u001b[39mZipFile(file, mode, \u001b[38;5;241m*\u001b[39m\u001b[38;5;241m*\u001b[39mkwargs)\n",
      "File \u001b[1;32m~\\anaconda3\\Lib\\zipfile.py:1284\u001b[0m, in \u001b[0;36mZipFile.__init__\u001b[1;34m(self, file, mode, compression, allowZip64, compresslevel, strict_timestamps, metadata_encoding)\u001b[0m\n\u001b[0;32m   1282\u001b[0m \u001b[38;5;28;01mwhile\u001b[39;00m \u001b[38;5;28;01mTrue\u001b[39;00m:\n\u001b[0;32m   1283\u001b[0m     \u001b[38;5;28;01mtry\u001b[39;00m:\n\u001b[1;32m-> 1284\u001b[0m         \u001b[38;5;28mself\u001b[39m\u001b[38;5;241m.\u001b[39mfp \u001b[38;5;241m=\u001b[39m io\u001b[38;5;241m.\u001b[39mopen(file, filemode)\n\u001b[0;32m   1285\u001b[0m     \u001b[38;5;28;01mexcept\u001b[39;00m \u001b[38;5;167;01mOSError\u001b[39;00m:\n\u001b[0;32m   1286\u001b[0m         \u001b[38;5;28;01mif\u001b[39;00m filemode \u001b[38;5;129;01min\u001b[39;00m modeDict:\n",
      "\u001b[1;31mFileNotFoundError\u001b[0m: [Errno 2] No such file or directory: '/kaggle/input/restaurant-revenue-prediction/train.csv.zip'"
     ]
    }
   ],
   "source": [
    "train_df = pd.read_csv(\"/kaggle/input/restaurant-revenue-prediction/train.csv.zip\")\n",
    "test_df = pd.read_csv(\"/kaggle/input/restaurant-revenue-prediction/test.csv.zip\")"
   ]
  },
  {
   "cell_type": "code",
   "execution_count": 3,
   "id": "214b9076",
   "metadata": {
    "execution": {
     "iopub.execute_input": "2023-09-22T14:45:24.619889Z",
     "iopub.status.busy": "2023-09-22T14:45:24.618815Z",
     "iopub.status.idle": "2023-09-22T14:45:24.673330Z",
     "shell.execute_reply": "2023-09-22T14:45:24.671945Z"
    },
    "papermill": {
     "duration": 0.078452,
     "end_time": "2023-09-22T14:45:24.676211",
     "exception": false,
     "start_time": "2023-09-22T14:45:24.597759",
     "status": "completed"
    },
    "tags": []
   },
   "outputs": [
    {
     "ename": "NameError",
     "evalue": "name 'train_df' is not defined",
     "output_type": "error",
     "traceback": [
      "\u001b[1;31m---------------------------------------------------------------------------\u001b[0m",
      "\u001b[1;31mNameError\u001b[0m                                 Traceback (most recent call last)",
      "Cell \u001b[1;32mIn[3], line 1\u001b[0m\n\u001b[1;32m----> 1\u001b[0m train_df\u001b[38;5;241m.\u001b[39mhead()\n",
      "\u001b[1;31mNameError\u001b[0m: name 'train_df' is not defined"
     ]
    }
   ],
   "source": [
    "train_df.head()"
   ]
  },
  {
   "cell_type": "code",
   "execution_count": null,
   "id": "d1b89d78",
   "metadata": {
    "execution": {
     "iopub.execute_input": "2023-09-22T14:45:24.717233Z",
     "iopub.status.busy": "2023-09-22T14:45:24.716757Z",
     "iopub.status.idle": "2023-09-22T14:45:24.763969Z",
     "shell.execute_reply": "2023-09-22T14:45:24.762758Z"
    },
    "papermill": {
     "duration": 0.071043,
     "end_time": "2023-09-22T14:45:24.766758",
     "exception": false,
     "start_time": "2023-09-22T14:45:24.695715",
     "status": "completed"
    },
    "tags": []
   },
   "outputs": [],
   "source": [
    "train_df.sample(5)"
   ]
  },
  {
   "cell_type": "code",
   "execution_count": null,
   "id": "a1c1320a",
   "metadata": {
    "execution": {
     "iopub.execute_input": "2023-09-22T14:45:24.810503Z",
     "iopub.status.busy": "2023-09-22T14:45:24.809015Z",
     "iopub.status.idle": "2023-09-22T14:45:24.841474Z",
     "shell.execute_reply": "2023-09-22T14:45:24.839958Z"
    },
    "papermill": {
     "duration": 0.057102,
     "end_time": "2023-09-22T14:45:24.844086",
     "exception": false,
     "start_time": "2023-09-22T14:45:24.786984",
     "status": "completed"
    },
    "tags": []
   },
   "outputs": [],
   "source": [
    "train_df.info()"
   ]
  },
  {
   "cell_type": "code",
   "execution_count": null,
   "id": "844c299d",
   "metadata": {
    "execution": {
     "iopub.execute_input": "2023-09-22T14:45:24.886168Z",
     "iopub.status.busy": "2023-09-22T14:45:24.885755Z",
     "iopub.status.idle": "2023-09-22T14:45:24.892768Z",
     "shell.execute_reply": "2023-09-22T14:45:24.891675Z"
    },
    "papermill": {
     "duration": 0.031007,
     "end_time": "2023-09-22T14:45:24.895235",
     "exception": false,
     "start_time": "2023-09-22T14:45:24.864228",
     "status": "completed"
    },
    "tags": []
   },
   "outputs": [],
   "source": [
    "train_df.shape"
   ]
  },
  {
   "cell_type": "code",
   "execution_count": null,
   "id": "1ebb4cf4",
   "metadata": {
    "execution": {
     "iopub.execute_input": "2023-09-22T14:45:24.939041Z",
     "iopub.status.busy": "2023-09-22T14:45:24.938350Z",
     "iopub.status.idle": "2023-09-22T14:45:24.948440Z",
     "shell.execute_reply": "2023-09-22T14:45:24.947611Z"
    },
    "papermill": {
     "duration": 0.034777,
     "end_time": "2023-09-22T14:45:24.950677",
     "exception": false,
     "start_time": "2023-09-22T14:45:24.915900",
     "status": "completed"
    },
    "tags": []
   },
   "outputs": [],
   "source": [
    "train_df.isna().sum()"
   ]
  },
  {
   "cell_type": "code",
   "execution_count": null,
   "id": "d5da9253",
   "metadata": {
    "execution": {
     "iopub.execute_input": "2023-09-22T14:45:24.993449Z",
     "iopub.status.busy": "2023-09-22T14:45:24.993050Z",
     "iopub.status.idle": "2023-09-22T14:45:25.028964Z",
     "shell.execute_reply": "2023-09-22T14:45:25.027973Z"
    },
    "papermill": {
     "duration": 0.060659,
     "end_time": "2023-09-22T14:45:25.031701",
     "exception": false,
     "start_time": "2023-09-22T14:45:24.971042",
     "status": "completed"
    },
    "tags": []
   },
   "outputs": [],
   "source": [
    "train_df.head()"
   ]
  },
  {
   "cell_type": "code",
   "execution_count": null,
   "id": "9bf24b1f",
   "metadata": {
    "execution": {
     "iopub.execute_input": "2023-09-22T14:45:25.075551Z",
     "iopub.status.busy": "2023-09-22T14:45:25.075091Z",
     "iopub.status.idle": "2023-09-22T14:45:25.084734Z",
     "shell.execute_reply": "2023-09-22T14:45:25.083555Z"
    },
    "papermill": {
     "duration": 0.034392,
     "end_time": "2023-09-22T14:45:25.087306",
     "exception": false,
     "start_time": "2023-09-22T14:45:25.052914",
     "status": "completed"
    },
    "tags": []
   },
   "outputs": [],
   "source": [
    "train_df.drop(\"Id\",axis=1,inplace = True)"
   ]
  },
  {
   "cell_type": "code",
   "execution_count": null,
   "id": "8ed53aa5",
   "metadata": {
    "execution": {
     "iopub.execute_input": "2023-09-22T14:45:25.131640Z",
     "iopub.status.busy": "2023-09-22T14:45:25.131241Z",
     "iopub.status.idle": "2023-09-22T14:45:25.287369Z",
     "shell.execute_reply": "2023-09-22T14:45:25.286038Z"
    },
    "papermill": {
     "duration": 0.182305,
     "end_time": "2023-09-22T14:45:25.290187",
     "exception": false,
     "start_time": "2023-09-22T14:45:25.107882",
     "status": "completed"
    },
    "tags": []
   },
   "outputs": [],
   "source": [
    "train_df[\"Open Date\"] = pd.to_datetime(train_df[\"Open Date\"])\n",
    "train_df[\"Day\"] = train_df[\"Open Date\"].dt.day\n",
    "train_df[\"Day_Name\"] = train_df[\"Open Date\"].dt.day_name()\n",
    "train_df[\"Month\"] = train_df[\"Open Date\"].dt.month\n",
    "train_df[\"Years\"] = train_df[\"Open Date\"].dt.year\n",
    "train_df.drop(\"Open Date\",axis=1,inplace=True)\n",
    "#########\n",
    "test_df[\"Open Date\"] = pd.to_datetime(test_df[\"Open Date\"])\n",
    "test_df[\"Day\"] = test_df[\"Open Date\"].dt.day\n",
    "test_df[\"Day_Name\"] = test_df[\"Open Date\"].dt.day_name()\n",
    "test_df[\"Month\"] = test_df[\"Open Date\"].dt.month\n",
    "test_df[\"Years\"] = test_df[\"Open Date\"].dt.year\n",
    "test_df.drop(\"Open Date\",axis=1,inplace=True)"
   ]
  },
  {
   "cell_type": "code",
   "execution_count": null,
   "id": "53778b37",
   "metadata": {
    "execution": {
     "iopub.execute_input": "2023-09-22T14:45:25.335033Z",
     "iopub.status.busy": "2023-09-22T14:45:25.334631Z",
     "iopub.status.idle": "2023-09-22T14:45:25.343096Z",
     "shell.execute_reply": "2023-09-22T14:45:25.341958Z"
    },
    "papermill": {
     "duration": 0.033089,
     "end_time": "2023-09-22T14:45:25.345509",
     "exception": false,
     "start_time": "2023-09-22T14:45:25.312420",
     "status": "completed"
    },
    "tags": []
   },
   "outputs": [],
   "source": [
    "train_df[\"City\"].unique()"
   ]
  },
  {
   "cell_type": "code",
   "execution_count": null,
   "id": "54081850",
   "metadata": {
    "execution": {
     "iopub.execute_input": "2023-09-22T14:45:25.452804Z",
     "iopub.status.busy": "2023-09-22T14:45:25.452338Z",
     "iopub.status.idle": "2023-09-22T14:45:25.460652Z",
     "shell.execute_reply": "2023-09-22T14:45:25.459357Z"
    },
    "papermill": {
     "duration": 0.033737,
     "end_time": "2023-09-22T14:45:25.463353",
     "exception": false,
     "start_time": "2023-09-22T14:45:25.429616",
     "status": "completed"
    },
    "tags": []
   },
   "outputs": [],
   "source": [
    "train_df[\"City Group\"].unique()"
   ]
  },
  {
   "cell_type": "code",
   "execution_count": null,
   "id": "462b65af",
   "metadata": {
    "execution": {
     "iopub.execute_input": "2023-09-22T14:45:25.509354Z",
     "iopub.status.busy": "2023-09-22T14:45:25.508695Z",
     "iopub.status.idle": "2023-09-22T14:45:25.515998Z",
     "shell.execute_reply": "2023-09-22T14:45:25.514758Z"
    },
    "papermill": {
     "duration": 0.033785,
     "end_time": "2023-09-22T14:45:25.518754",
     "exception": false,
     "start_time": "2023-09-22T14:45:25.484969",
     "status": "completed"
    },
    "tags": []
   },
   "outputs": [],
   "source": [
    "train_df[\"Type\"].unique()"
   ]
  },
  {
   "cell_type": "code",
   "execution_count": null,
   "id": "4756db75",
   "metadata": {
    "execution": {
     "iopub.execute_input": "2023-09-22T14:45:25.563781Z",
     "iopub.status.busy": "2023-09-22T14:45:25.563405Z",
     "iopub.status.idle": "2023-09-22T14:45:26.302635Z",
     "shell.execute_reply": "2023-09-22T14:45:26.301728Z"
    },
    "papermill": {
     "duration": 0.764214,
     "end_time": "2023-09-22T14:45:26.304928",
     "exception": false,
     "start_time": "2023-09-22T14:45:25.540714",
     "status": "completed"
    },
    "tags": []
   },
   "outputs": [],
   "source": [
    "plt.figure(figsize=(12,7))\n",
    "sns.countplot(y= train_df[\"City\"],palette=\"mako\")\n",
    "plt.xlabel(\"Number of Restaurants\")\n",
    "plt.tight_layout()"
   ]
  },
  {
   "cell_type": "code",
   "execution_count": null,
   "id": "eccac76d",
   "metadata": {
    "execution": {
     "iopub.execute_input": "2023-09-22T14:45:26.353534Z",
     "iopub.status.busy": "2023-09-22T14:45:26.352560Z",
     "iopub.status.idle": "2023-09-22T14:45:27.812219Z",
     "shell.execute_reply": "2023-09-22T14:45:27.810968Z"
    },
    "papermill": {
     "duration": 1.488699,
     "end_time": "2023-09-22T14:45:27.817071",
     "exception": false,
     "start_time": "2023-09-22T14:45:26.328372",
     "status": "completed"
    },
    "tags": []
   },
   "outputs": [],
   "source": [
    "city_df = train_df.groupby(\"City\")[\"revenue\"].agg([\"mean\",\"sum\"]).reset_index()\n",
    "fig , ax = plt.subplots(2,1,figsize = (20,15))\n",
    "ax1 = sns.pointplot(x=city_df[\"City\"],y=city_df[\"sum\"],ax=ax[0])\n",
    "ax1.tick_params(axis= \"x\" ,labelsize=15,labelrotation=75)\n",
    "ax1.tick_params(axis= \"y\" ,labelsize=15)\n",
    "ax1.set_xlabel(\"City\", fontsize=15)\n",
    "ax1.set_ylabel(\"Sum of Revenue\", fontsize=15)\n",
    "ax2 = sns.pointplot(x=city_df[\"City\"],y=city_df[\"mean\"],ax=ax[1],color = \"r\")\n",
    "ax2.tick_params(axis= \"x\" ,labelsize=15,labelrotation=75)\n",
    "ax2.tick_params(axis= \"y\" ,labelsize=15)\n",
    "ax2.set_xlabel(\"City\", fontsize=15)\n",
    "ax2.set_ylabel(\"Mean of Revenue\", fontsize=15)\n",
    "plt.tight_layout()"
   ]
  },
  {
   "cell_type": "code",
   "execution_count": null,
   "id": "13c97f42",
   "metadata": {
    "execution": {
     "iopub.execute_input": "2023-09-22T14:45:27.874362Z",
     "iopub.status.busy": "2023-09-22T14:45:27.873937Z",
     "iopub.status.idle": "2023-09-22T14:45:28.085764Z",
     "shell.execute_reply": "2023-09-22T14:45:28.084175Z"
    },
    "papermill": {
     "duration": 0.245439,
     "end_time": "2023-09-22T14:45:28.090141",
     "exception": false,
     "start_time": "2023-09-22T14:45:27.844702",
     "status": "completed"
    },
    "tags": []
   },
   "outputs": [],
   "source": [
    "plt.figure(figsize=(8,5))\n",
    "group_dict = dict(train_df[\"City Group\"].value_counts())\n",
    "plt.pie(group_dict.values(),labels=group_dict.keys(),wedgeprops={\"edgecolor\":\"black\"},autopct=\"%1.1f%%\")\n",
    "plt.tight_layout()"
   ]
  },
  {
   "cell_type": "code",
   "execution_count": null,
   "id": "2516df68",
   "metadata": {
    "execution": {
     "iopub.execute_input": "2023-09-22T14:45:28.177734Z",
     "iopub.status.busy": "2023-09-22T14:45:28.176928Z",
     "iopub.status.idle": "2023-09-22T14:45:29.026152Z",
     "shell.execute_reply": "2023-09-22T14:45:29.024966Z"
    },
    "papermill": {
     "duration": 0.882461,
     "end_time": "2023-09-22T14:45:29.028628",
     "exception": false,
     "start_time": "2023-09-22T14:45:28.146167",
     "status": "completed"
    },
    "tags": []
   },
   "outputs": [],
   "source": [
    "cityg_df = train_df.groupby(\"City Group\")[\"revenue\"].agg([\"mean\",\"sum\"]).reset_index()\n",
    "fig , ax = plt.subplots(2,1,figsize = (18,12))\n",
    "ax1 = sns.barplot(x=cityg_df[\"City Group\"],y=cityg_df[\"sum\"],ax=ax[0])\n",
    "ax1.set_ylabel(\"Sum of Revenue\")\n",
    "ax2 = sns.barplot(x=cityg_df[\"City Group\"],y=cityg_df[\"mean\"],ax=ax[1])\n",
    "ax2.set_ylabel(\"Mean of Revenue\")\n",
    "plt.tight_layout()"
   ]
  },
  {
   "cell_type": "code",
   "execution_count": null,
   "id": "54d2027d",
   "metadata": {
    "execution": {
     "iopub.execute_input": "2023-09-22T14:45:29.089033Z",
     "iopub.status.busy": "2023-09-22T14:45:29.088605Z",
     "iopub.status.idle": "2023-09-22T14:45:29.321505Z",
     "shell.execute_reply": "2023-09-22T14:45:29.319909Z"
    },
    "papermill": {
     "duration": 0.267523,
     "end_time": "2023-09-22T14:45:29.325812",
     "exception": false,
     "start_time": "2023-09-22T14:45:29.058289",
     "status": "completed"
    },
    "tags": []
   },
   "outputs": [],
   "source": [
    "plt.figure(figsize=(8,5))\n",
    "type_dict = dict(train_df[\"Type\"].value_counts())\n",
    "ex = [0,0.03,0.7]\n",
    "plt.pie(type_dict.values(),labels=type_dict.keys(),explode = ex,wedgeprops={\"edgecolor\":\"black\"},autopct=\"%1.1f%%\")\n",
    "plt.tight_layout()"
   ]
  },
  {
   "cell_type": "code",
   "execution_count": null,
   "id": "9c6d5dbe",
   "metadata": {
    "execution": {
     "iopub.execute_input": "2023-09-22T14:45:29.409178Z",
     "iopub.status.busy": "2023-09-22T14:45:29.408357Z",
     "iopub.status.idle": "2023-09-22T14:45:30.008935Z",
     "shell.execute_reply": "2023-09-22T14:45:30.007628Z"
    },
    "papermill": {
     "duration": 0.634521,
     "end_time": "2023-09-22T14:45:30.011592",
     "exception": false,
     "start_time": "2023-09-22T14:45:29.377071",
     "status": "completed"
    },
    "tags": []
   },
   "outputs": [],
   "source": [
    "type_df = train_df.groupby(\"Type\")[\"revenue\"].agg([\"mean\",\"sum\"]).reset_index()\n",
    "fig , ax = plt.subplots(2,1,figsize = (18,12))\n",
    "ax1 = sns.barplot(x=type_df[\"Type\"],y=type_df[\"sum\"],ax=ax[0])\n",
    "ax1.set_ylabel(\"Sum of Revenue\")\n",
    "ax2 = sns.barplot(x=type_df[\"Type\"],y=type_df[\"mean\"],ax=ax[1])\n",
    "ax2.set_ylabel(\"Mean of Revenue\")\n",
    "plt.tight_layout()"
   ]
  },
  {
   "cell_type": "code",
   "execution_count": null,
   "id": "6474f041",
   "metadata": {
    "execution": {
     "iopub.execute_input": "2023-09-22T14:45:30.073310Z",
     "iopub.status.busy": "2023-09-22T14:45:30.072902Z",
     "iopub.status.idle": "2023-09-22T14:45:30.693430Z",
     "shell.execute_reply": "2023-09-22T14:45:30.692161Z"
    },
    "papermill": {
     "duration": 0.654642,
     "end_time": "2023-09-22T14:45:30.696023",
     "exception": false,
     "start_time": "2023-09-22T14:45:30.041381",
     "status": "completed"
    },
    "tags": []
   },
   "outputs": [],
   "source": [
    "plt.figure(figsize=(12,7))\n",
    "sns.countplot(x= train_df[\"Day\"],palette=\"flare\")\n",
    "plt.ylabel(\"Number of Restaurants\")\n",
    "plt.tight_layout()"
   ]
  },
  {
   "cell_type": "code",
   "execution_count": null,
   "id": "47282ba3",
   "metadata": {
    "execution": {
     "iopub.execute_input": "2023-09-22T14:45:30.761128Z",
     "iopub.status.busy": "2023-09-22T14:45:30.760468Z",
     "iopub.status.idle": "2023-09-22T14:45:31.983297Z",
     "shell.execute_reply": "2023-09-22T14:45:31.981867Z"
    },
    "papermill": {
     "duration": 1.259312,
     "end_time": "2023-09-22T14:45:31.986152",
     "exception": false,
     "start_time": "2023-09-22T14:45:30.726840",
     "status": "completed"
    },
    "tags": []
   },
   "outputs": [],
   "source": [
    "day_df = train_df.groupby(\"Day\")[\"revenue\"].agg([\"mean\",\"sum\"]).reset_index()\n",
    "fig , ax = plt.subplots(2,1,figsize = (18,12))\n",
    "ax1 = sns.barplot(x=day_df[\"Day\"],y=day_df[\"sum\"],ax=ax[0],palette = \"magma\")\n",
    "ax1.set_ylabel(\"Sum of Revenue\")\n",
    "ax2 = sns.barplot(x=day_df[\"Day\"],y=day_df[\"mean\"],ax=ax[1],palette = \"magma\")\n",
    "ax2.set_ylabel(\"Mean of Revenue\")\n",
    "plt.tight_layout()"
   ]
  },
  {
   "cell_type": "code",
   "execution_count": null,
   "id": "d2972c43",
   "metadata": {
    "execution": {
     "iopub.execute_input": "2023-09-22T14:45:32.053349Z",
     "iopub.status.busy": "2023-09-22T14:45:32.052885Z",
     "iopub.status.idle": "2023-09-22T14:45:32.464193Z",
     "shell.execute_reply": "2023-09-22T14:45:32.462921Z"
    },
    "papermill": {
     "duration": 0.447357,
     "end_time": "2023-09-22T14:45:32.467087",
     "exception": false,
     "start_time": "2023-09-22T14:45:32.019730",
     "status": "completed"
    },
    "tags": []
   },
   "outputs": [],
   "source": [
    "plt.figure(figsize=(12,7))\n",
    "sns.countplot(x= train_df[\"Day_Name\"])\n",
    "plt.ylabel(\"Number of Restaurants\")\n",
    "plt.tight_layout()"
   ]
  },
  {
   "cell_type": "code",
   "execution_count": null,
   "id": "47834f17",
   "metadata": {
    "execution": {
     "iopub.execute_input": "2023-09-22T14:45:32.533991Z",
     "iopub.status.busy": "2023-09-22T14:45:32.533558Z",
     "iopub.status.idle": "2023-09-22T14:45:33.279247Z",
     "shell.execute_reply": "2023-09-22T14:45:33.277993Z"
    },
    "papermill": {
     "duration": 0.782768,
     "end_time": "2023-09-22T14:45:33.282369",
     "exception": false,
     "start_time": "2023-09-22T14:45:32.499601",
     "status": "completed"
    },
    "tags": []
   },
   "outputs": [],
   "source": [
    "day_Name_df = train_df.groupby(\"Day_Name\")[\"revenue\"].agg([\"mean\",\"sum\"]).reset_index()\n",
    "fig , ax = plt.subplots(2,1,figsize = (18,12))\n",
    "ax1 = sns.barplot(x=day_Name_df[\"Day_Name\"],y=day_Name_df[\"sum\"],ax=ax[0])\n",
    "ax1.set_ylabel(\"Sum of Revenue\")\n",
    "ax2 = sns.barplot(x=day_Name_df[\"Day_Name\"],y=day_Name_df[\"mean\"],ax=ax[1])\n",
    "ax2.set_ylabel(\"Mean of Revenue\")\n",
    "plt.tight_layout()"
   ]
  },
  {
   "cell_type": "code",
   "execution_count": null,
   "id": "a6c189a3",
   "metadata": {
    "execution": {
     "iopub.execute_input": "2023-09-22T14:45:33.350496Z",
     "iopub.status.busy": "2023-09-22T14:45:33.350060Z",
     "iopub.status.idle": "2023-09-22T14:45:33.803569Z",
     "shell.execute_reply": "2023-09-22T14:45:33.802196Z"
    },
    "papermill": {
     "duration": 0.491194,
     "end_time": "2023-09-22T14:45:33.806751",
     "exception": false,
     "start_time": "2023-09-22T14:45:33.315557",
     "status": "completed"
    },
    "tags": []
   },
   "outputs": [],
   "source": [
    "plt.figure(figsize=(12,7))\n",
    "sns.countplot(x= train_df[\"Month\"],palette=\"summer\")\n",
    "plt.ylabel(\"Number of Restaurants\")\n",
    "plt.tight_layout()"
   ]
  },
  {
   "cell_type": "code",
   "execution_count": null,
   "id": "656a1ce4",
   "metadata": {
    "execution": {
     "iopub.execute_input": "2023-09-22T14:45:33.878108Z",
     "iopub.status.busy": "2023-09-22T14:45:33.876992Z",
     "iopub.status.idle": "2023-09-22T14:45:34.728337Z",
     "shell.execute_reply": "2023-09-22T14:45:34.726602Z"
    },
    "papermill": {
     "duration": 0.889677,
     "end_time": "2023-09-22T14:45:34.731231",
     "exception": false,
     "start_time": "2023-09-22T14:45:33.841554",
     "status": "completed"
    },
    "tags": []
   },
   "outputs": [],
   "source": [
    "Month_df = train_df.groupby(\"Month\")[\"revenue\"].agg([\"mean\",\"sum\"]).reset_index()\n",
    "fig , ax = plt.subplots(2,1,figsize = (18,12))\n",
    "ax1 = sns.barplot(x=Month_df[\"Month\"],y=Month_df[\"sum\"],ax=ax[0],palette = \"rocket\")\n",
    "ax1.set_ylabel(\"Sum of Revenue\")\n",
    "ax2 = sns.barplot(x=Month_df[\"Month\"],y=Month_df[\"mean\"],ax=ax[1],palette = \"rocket\")\n",
    "ax2.set_ylabel(\"Mean of Revenue\")\n",
    "plt.tight_layout()"
   ]
  },
  {
   "cell_type": "code",
   "execution_count": null,
   "id": "4358b612",
   "metadata": {
    "execution": {
     "iopub.execute_input": "2023-09-22T14:45:34.801897Z",
     "iopub.status.busy": "2023-09-22T14:45:34.801240Z",
     "iopub.status.idle": "2023-09-22T14:45:35.272683Z",
     "shell.execute_reply": "2023-09-22T14:45:35.271533Z"
    },
    "papermill": {
     "duration": 0.50941,
     "end_time": "2023-09-22T14:45:35.275082",
     "exception": false,
     "start_time": "2023-09-22T14:45:34.765672",
     "status": "completed"
    },
    "tags": []
   },
   "outputs": [],
   "source": [
    "plt.figure(figsize=(12,7))\n",
    "sns.countplot(x= train_df[\"Years\"],palette=\"inferno\")\n",
    "plt.ylabel(\"Number of Restaurants\")\n",
    "plt.tight_layout()"
   ]
  },
  {
   "cell_type": "code",
   "execution_count": null,
   "id": "96e24cf5",
   "metadata": {
    "execution": {
     "iopub.execute_input": "2023-09-22T14:45:35.347588Z",
     "iopub.status.busy": "2023-09-22T14:45:35.346467Z",
     "iopub.status.idle": "2023-09-22T14:45:36.277439Z",
     "shell.execute_reply": "2023-09-22T14:45:36.276192Z"
    },
    "papermill": {
     "duration": 0.969594,
     "end_time": "2023-09-22T14:45:36.280297",
     "exception": false,
     "start_time": "2023-09-22T14:45:35.310703",
     "status": "completed"
    },
    "tags": []
   },
   "outputs": [],
   "source": [
    "Years_df = train_df.groupby(\"Years\")[\"revenue\"].agg([\"mean\",\"sum\"]).reset_index()\n",
    "fig , ax = plt.subplots(2,1,figsize = (18,12))\n",
    "ax1 = sns.barplot(x=Years_df[\"Years\"],y=Years_df[\"sum\"],ax=ax[0],palette = \"inferno\")\n",
    "ax1.set_ylabel(\"Sum of Revenue\")\n",
    "ax2 = sns.barplot(x=Years_df[\"Years\"],y=Years_df[\"mean\"],ax=ax[1],palette = \"inferno\")\n",
    "ax2.set_ylabel(\"Mean of Revenue\")\n",
    "plt.tight_layout()"
   ]
  },
  {
   "cell_type": "code",
   "execution_count": null,
   "id": "b2066837",
   "metadata": {
    "execution": {
     "iopub.execute_input": "2023-09-22T14:45:36.354220Z",
     "iopub.status.busy": "2023-09-22T14:45:36.353777Z",
     "iopub.status.idle": "2023-09-22T14:45:36.838806Z",
     "shell.execute_reply": "2023-09-22T14:45:36.837507Z"
    },
    "papermill": {
     "duration": 0.525071,
     "end_time": "2023-09-22T14:45:36.841445",
     "exception": false,
     "start_time": "2023-09-22T14:45:36.316374",
     "status": "completed"
    },
    "tags": []
   },
   "outputs": [],
   "source": [
    "plt.figure(figsize=(12,7))\n",
    "sns.distplot(x= train_df[\"revenue\"])\n",
    "plt.tight_layout()"
   ]
  },
  {
   "cell_type": "code",
   "execution_count": null,
   "id": "6914c1b4",
   "metadata": {
    "execution": {
     "iopub.execute_input": "2023-09-22T14:45:36.918135Z",
     "iopub.status.busy": "2023-09-22T14:45:36.917345Z",
     "iopub.status.idle": "2023-09-22T14:46:26.491299Z",
     "shell.execute_reply": "2023-09-22T14:46:26.489925Z"
    },
    "papermill": {
     "duration": 49.663258,
     "end_time": "2023-09-22T14:46:26.541782",
     "exception": false,
     "start_time": "2023-09-22T14:45:36.878524",
     "status": "completed"
    },
    "tags": []
   },
   "outputs": [],
   "source": [
    "fig , ax = plt.subplots(7,6,figsize = (45,29))\n",
    "r = 0\n",
    "c = 0\n",
    "for column in train_df.columns[4:41]:\n",
    "    if r % 2 == 0 :\n",
    "        if (c == 0) or (c == 2) or (c==4):\n",
    "            pal = \"viridis\"\n",
    "        else:\n",
    "            pal = \"flare\"\n",
    "    else:\n",
    "        if (c == 0) or (c == 2) or (c==4) :\n",
    "            pal = \"flare\"\n",
    "        else:\n",
    "            pal = \"viridis\"\n",
    "    ax1 = sns.countplot(x=train_df[column],ax=ax[r,c],palette=pal)\n",
    "    ax1.tick_params(axis= \"x\" ,labelsize=23)\n",
    "    ax1.tick_params(axis= \"y\" ,labelsize=23)\n",
    "    ax1.set_title(f\"({column}) Count\",size=23)\n",
    "    ax1.set_xlabel(None, fontsize=23)\n",
    "    ax1.set_ylabel(None, fontsize=23)\n",
    "    c += 1\n",
    "    if c > 5:\n",
    "        r+=1\n",
    "        c=0\n",
    "    plt.tight_layout()"
   ]
  },
  {
   "cell_type": "code",
   "execution_count": null,
   "id": "5659741d",
   "metadata": {
    "execution": {
     "iopub.execute_input": "2023-09-22T14:46:26.629320Z",
     "iopub.status.busy": "2023-09-22T14:46:26.628427Z",
     "iopub.status.idle": "2023-09-22T14:46:26.666340Z",
     "shell.execute_reply": "2023-09-22T14:46:26.665212Z"
    },
    "papermill": {
     "duration": 0.085028,
     "end_time": "2023-09-22T14:46:26.669041",
     "exception": false,
     "start_time": "2023-09-22T14:46:26.584013",
     "status": "completed"
    },
    "tags": []
   },
   "outputs": [],
   "source": [
    "train_df.head()"
   ]
  },
  {
   "cell_type": "code",
   "execution_count": null,
   "id": "e01bc676",
   "metadata": {
    "execution": {
     "iopub.execute_input": "2023-09-22T14:46:26.757977Z",
     "iopub.status.busy": "2023-09-22T14:46:26.756799Z",
     "iopub.status.idle": "2023-09-22T14:46:26.767941Z",
     "shell.execute_reply": "2023-09-22T14:46:26.767038Z"
    },
    "papermill": {
     "duration": 0.058304,
     "end_time": "2023-09-22T14:46:26.770745",
     "exception": false,
     "start_time": "2023-09-22T14:46:26.712441",
     "status": "completed"
    },
    "tags": []
   },
   "outputs": [],
   "source": [
    "class City_Group(BaseEstimator,TransformerMixin):\n",
    "    def fit(self,X,y=None):\n",
    "        return self\n",
    "    def transform(self,X):\n",
    "        X[\"City Group\"] = X[\"City Group\"].apply(lambda x: 1 if x == \"Big Cities\" else 0)\n",
    "        return X\n",
    "class Type(BaseEstimator,TransformerMixin):\n",
    "    def fit(self,X,y=None):\n",
    "        return self\n",
    "    def transform(self,X):\n",
    "        dummies = pd.get_dummies(X[\"Type\"])\n",
    "        X = pd.concat([X,dummies],axis=1)\n",
    "        X.drop(\"Type\",axis=1,inplace=True)\n",
    "        return X\n",
    "class City(BaseEstimator,TransformerMixin):\n",
    "    def fit(self,X,y=None):\n",
    "        return self\n",
    "    def transform(self,X):\n",
    "        dummies = pd.get_dummies(X[\"City\"])\n",
    "        X = pd.concat([X,dummies],axis=1)\n",
    "        X.drop(\"City\",axis=1,inplace=True)\n",
    "        return X"
   ]
  },
  {
   "cell_type": "code",
   "execution_count": null,
   "id": "b160dcea",
   "metadata": {
    "execution": {
     "iopub.execute_input": "2023-09-22T14:46:26.859033Z",
     "iopub.status.busy": "2023-09-22T14:46:26.858222Z",
     "iopub.status.idle": "2023-09-22T14:46:26.863744Z",
     "shell.execute_reply": "2023-09-22T14:46:26.862954Z"
    },
    "papermill": {
     "duration": 0.052664,
     "end_time": "2023-09-22T14:46:26.866211",
     "exception": false,
     "start_time": "2023-09-22T14:46:26.813547",
     "status": "completed"
    },
    "tags": []
   },
   "outputs": [],
   "source": [
    "pip = Pipeline([\n",
    "    (\"City_Group\",City_Group()),\n",
    "    (\"Type\",Type()),\n",
    "    (\"City\",City())\n",
    "])"
   ]
  },
  {
   "cell_type": "code",
   "execution_count": null,
   "id": "0909d4d7",
   "metadata": {
    "execution": {
     "iopub.execute_input": "2023-09-22T14:46:26.953649Z",
     "iopub.status.busy": "2023-09-22T14:46:26.952827Z",
     "iopub.status.idle": "2023-09-22T14:46:26.967743Z",
     "shell.execute_reply": "2023-09-22T14:46:26.966455Z"
    },
    "papermill": {
     "duration": 0.061853,
     "end_time": "2023-09-22T14:46:26.970591",
     "exception": false,
     "start_time": "2023-09-22T14:46:26.908738",
     "status": "completed"
    },
    "tags": []
   },
   "outputs": [],
   "source": [
    "train_df = pip.fit_transform(train_df).drop(\"Day_Name\",axis=1)"
   ]
  },
  {
   "cell_type": "code",
   "execution_count": null,
   "id": "fb974f77",
   "metadata": {
    "execution": {
     "iopub.execute_input": "2023-09-22T14:46:27.058923Z",
     "iopub.status.busy": "2023-09-22T14:46:27.058013Z",
     "iopub.status.idle": "2023-09-22T14:46:27.118382Z",
     "shell.execute_reply": "2023-09-22T14:46:27.117358Z"
    },
    "papermill": {
     "duration": 0.107167,
     "end_time": "2023-09-22T14:46:27.120700",
     "exception": false,
     "start_time": "2023-09-22T14:46:27.013533",
     "status": "completed"
    },
    "tags": []
   },
   "outputs": [],
   "source": [
    "train_df.head()"
   ]
  },
  {
   "cell_type": "code",
   "execution_count": null,
   "id": "65d99440",
   "metadata": {
    "execution": {
     "iopub.execute_input": "2023-09-22T14:46:27.217101Z",
     "iopub.status.busy": "2023-09-22T14:46:27.216398Z",
     "iopub.status.idle": "2023-09-22T14:46:28.265208Z",
     "shell.execute_reply": "2023-09-22T14:46:28.264295Z"
    },
    "papermill": {
     "duration": 1.100145,
     "end_time": "2023-09-22T14:46:28.268214",
     "exception": false,
     "start_time": "2023-09-22T14:46:27.168069",
     "status": "completed"
    },
    "tags": []
   },
   "outputs": [],
   "source": [
    "plt.figure(figsize=(12,7))\n",
    "sns.heatmap(train_df.corr())\n",
    "plt.tight_layout()"
   ]
  },
  {
   "cell_type": "code",
   "execution_count": null,
   "id": "b7472a0e",
   "metadata": {
    "execution": {
     "iopub.execute_input": "2023-09-22T14:46:28.366257Z",
     "iopub.status.busy": "2023-09-22T14:46:28.365828Z",
     "iopub.status.idle": "2023-09-22T14:46:28.378062Z",
     "shell.execute_reply": "2023-09-22T14:46:28.376956Z"
    },
    "papermill": {
     "duration": 0.062152,
     "end_time": "2023-09-22T14:46:28.380924",
     "exception": false,
     "start_time": "2023-09-22T14:46:28.318772",
     "status": "completed"
    },
    "tags": []
   },
   "outputs": [],
   "source": [
    "corr = train_df.corr()[\"revenue\"].abs()\n",
    "sorted_corr = corr.sort_values()\n",
    "num_to_drop = int(0.75* len(train_df.columns))\n",
    "cols_to_drop = sorted_corr.iloc[:num_to_drop].index\n",
    "df_corr = train_df.drop(cols_to_drop,axis=1)"
   ]
  },
  {
   "cell_type": "code",
   "execution_count": null,
   "id": "0b23bf32",
   "metadata": {
    "execution": {
     "iopub.execute_input": "2023-09-22T14:46:28.474428Z",
     "iopub.status.busy": "2023-09-22T14:46:28.473985Z",
     "iopub.status.idle": "2023-09-22T14:46:30.802645Z",
     "shell.execute_reply": "2023-09-22T14:46:30.801426Z"
    },
    "papermill": {
     "duration": 2.381762,
     "end_time": "2023-09-22T14:46:30.808005",
     "exception": false,
     "start_time": "2023-09-22T14:46:28.426243",
     "status": "completed"
    },
    "tags": []
   },
   "outputs": [],
   "source": [
    "plt.figure(figsize=(15,10))\n",
    "sns.heatmap(df_corr.corr(),annot=True)\n",
    "plt.tight_layout()"
   ]
  },
  {
   "cell_type": "code",
   "execution_count": null,
   "id": "1cfa6fc1",
   "metadata": {
    "_kg_hide-input": true,
    "execution": {
     "iopub.execute_input": "2023-09-22T14:46:30.915809Z",
     "iopub.status.busy": "2023-09-22T14:46:30.915391Z",
     "iopub.status.idle": "2023-09-22T14:46:30.935726Z",
     "shell.execute_reply": "2023-09-22T14:46:30.934473Z"
    },
    "papermill": {
     "duration": 0.075602,
     "end_time": "2023-09-22T14:46:30.938216",
     "exception": false,
     "start_time": "2023-09-22T14:46:30.862614",
     "status": "completed"
    },
    "tags": []
   },
   "outputs": [],
   "source": [
    "train_df[\"Çorum\"] = 0\n",
    "train_df[\"Çankırı\"] = 0\n",
    "train_df[\"Çanakkale\"] = 0\n",
    "train_df[\"Zonguldak\"] = 0\n",
    "train_df[\"Yalova\"] = 0\n",
    "train_df[\"Tanımsız\"] = 0\n",
    "train_df[\"Sivas\"] = 0\n",
    "train_df[\"Siirt\"] = 0\n",
    "train_df[\"Rize\"] = 0\n",
    "train_df[\"Ordu\"] = 0\n",
    "train_df[\"Niğde\"] = 0\n",
    "train_df[\"Nevşehir\"] = 0\n",
    "train_df[\"Mersin\"] = 0\n",
    "train_df[\"Mardin\"] = 0\n",
    "train_df[\"Manisa\"] = 0\n",
    "train_df[\"Malatya\"] = 0\n",
    "train_df[\"MB\"] = 0\n",
    "train_df[\"Kırşehir\"] = 0\n",
    "train_df[\"Kırıkkale\"] = 0\n",
    "train_df[\"Kars\"] = 0\n",
    "train_df[\"Kahramanmaraş\"] = 0\n",
    "train_df[\"Hatay\"] = 0\n",
    "train_df[\"Giresun\"] = 0\n",
    "train_df[\"Erzurum\"] = 0\n",
    "train_df[\"Erzincan\"] = 0\n",
    "train_df[\"Düzce\"] = 0\n",
    "train_df[\"Bilecik\"] = 0\n",
    "train_df[\"Batman\"] = 0\n",
    "train_df[\"Artvin\"] = 0\n",
    "train_df[\"Aksaray\"] = 0"
   ]
  },
  {
   "cell_type": "code",
   "execution_count": null,
   "id": "c5987b6e",
   "metadata": {
    "execution": {
     "iopub.execute_input": "2023-09-22T14:46:31.041224Z",
     "iopub.status.busy": "2023-09-22T14:46:31.040776Z",
     "iopub.status.idle": "2023-09-22T14:46:31.145900Z",
     "shell.execute_reply": "2023-09-22T14:46:31.144525Z"
    },
    "papermill": {
     "duration": 0.160469,
     "end_time": "2023-09-22T14:46:31.149024",
     "exception": false,
     "start_time": "2023-09-22T14:46:30.988555",
     "status": "completed"
    },
    "tags": []
   },
   "outputs": [],
   "source": [
    "train_df"
   ]
  },
  {
   "cell_type": "code",
   "execution_count": null,
   "id": "204613b5",
   "metadata": {
    "execution": {
     "iopub.execute_input": "2023-09-22T14:46:31.258337Z",
     "iopub.status.busy": "2023-09-22T14:46:31.257912Z",
     "iopub.status.idle": "2023-09-22T14:46:31.270669Z",
     "shell.execute_reply": "2023-09-22T14:46:31.269373Z"
    },
    "papermill": {
     "duration": 0.072899,
     "end_time": "2023-09-22T14:46:31.274629",
     "exception": false,
     "start_time": "2023-09-22T14:46:31.201730",
     "status": "completed"
    },
    "tags": []
   },
   "outputs": [],
   "source": [
    "X = train_df.drop(\"revenue\",axis=1)\n",
    "y = train_df[\"revenue\"]\n",
    "X_train, X_test, y_train, y_test = train_test_split(X,y,test_size=0.1)"
   ]
  },
  {
   "cell_type": "code",
   "execution_count": null,
   "id": "800d1624",
   "metadata": {
    "execution": {
     "iopub.execute_input": "2023-09-22T14:46:31.383725Z",
     "iopub.status.busy": "2023-09-22T14:46:31.383306Z",
     "iopub.status.idle": "2023-09-22T14:46:31.389973Z",
     "shell.execute_reply": "2023-09-22T14:46:31.388666Z"
    },
    "papermill": {
     "duration": 0.064811,
     "end_time": "2023-09-22T14:46:31.392703",
     "exception": false,
     "start_time": "2023-09-22T14:46:31.327892",
     "status": "completed"
    },
    "tags": []
   },
   "outputs": [],
   "source": [
    "def RSE(y_true, y_predicted):\n",
    "    y_true = np.array(y_true)\n",
    "    y_predicted = np.array(y_predicted)\n",
    "    RSS = np.sum(np.square(y_true - y_predicted))\n",
    "\n",
    "    rse = sqrt(RSS / (len(y_true) - 2))\n",
    "    return rse"
   ]
  },
  {
   "cell_type": "code",
   "execution_count": null,
   "id": "326bab8f",
   "metadata": {
    "_kg_hide-output": true,
    "execution": {
     "iopub.execute_input": "2023-09-22T14:46:31.499994Z",
     "iopub.status.busy": "2023-09-22T14:46:31.499471Z",
     "iopub.status.idle": "2023-09-22T14:46:44.081796Z",
     "shell.execute_reply": "2023-09-22T14:46:44.080189Z"
    },
    "jupyter": {
     "outputs_hidden": true
    },
    "papermill": {
     "duration": 12.641808,
     "end_time": "2023-09-22T14:46:44.086647",
     "exception": false,
     "start_time": "2023-09-22T14:46:31.444839",
     "status": "completed"
    },
    "tags": []
   },
   "outputs": [],
   "source": [
    "models=[LinearRegression(),RandomForestRegressor(n_estimators=42,n_jobs=-1),AdaBoostRegressor(),KNeighborsRegressor(),DecisionTreeRegressor(),GradientBoostingRegressor(),XGBRegressor(),LGBMRegressor(),CatBoostRegressor(),Lasso(),Ridge()]\n",
    "model_names=[\"LinearRegression\",\"RandomForestRegressor\",\"AdaBoostRegressor\",\"KNeighborsRegressor\",\"DecisionTreeRegressor\",\"GradientBoostingRegressor\",\"XGBRegressor\",\"LGBMRegressor\",\"CatBoostRegressor\",\"Lasso\",\"Ridge\"]\n",
    "MSE=[]\n",
    "r_2_test=[]\n",
    "r_2_train = []\n",
    "RSE_ = []\n",
    "accuracy = []\n",
    "RMSE = []\n",
    "MAE = []\n",
    "for model in range (len(models)):\n",
    "    model=models[model]\n",
    "    model.fit(X_train,y_train)\n",
    "    y_pre=model.predict(X_test)\n",
    "    C = cross_validate(model,X,y,cv=5,scoring=(\"neg_mean_squared_error\",\"neg_root_mean_squared_error\",\"neg_mean_absolute_error\",\"r2\"),return_train_score=True)\n",
    "    MSE.append((C[\"test_neg_mean_squared_error\"] * -1).mean())\n",
    "    MAE.append((C[\"test_neg_mean_absolute_error\"] * -1).mean())\n",
    "    r_2_train.append(C[\"train_r2\"].mean())\n",
    "    r_2_test.append(C[\"test_r2\"].mean())\n",
    "    RSE_.append(round(RSE(y_test,y_pre),5))\n",
    "    accuracy.append((model.score(X_test,y_test))*100)\n",
    "    RMSE.append((C[\"test_neg_root_mean_squared_error\"] * -1).mean())\n",
    "model_report=pd.DataFrame({'Modelling Name':model_names,\"Train R2\":r_2_train,'MSE':MSE,\"Test R2\":r_2_test,\"RSE\":RSE_,\"Accuracy\":accuracy,\"RMSE\":RMSE,\"MAE\":MAE})"
   ]
  },
  {
   "cell_type": "code",
   "execution_count": null,
   "id": "e5bcbff9",
   "metadata": {
    "execution": {
     "iopub.execute_input": "2023-09-22T14:46:44.274500Z",
     "iopub.status.busy": "2023-09-22T14:46:44.274079Z",
     "iopub.status.idle": "2023-09-22T14:46:44.297797Z",
     "shell.execute_reply": "2023-09-22T14:46:44.296410Z"
    },
    "papermill": {
     "duration": 0.094284,
     "end_time": "2023-09-22T14:46:44.300504",
     "exception": false,
     "start_time": "2023-09-22T14:46:44.206220",
     "status": "completed"
    },
    "tags": []
   },
   "outputs": [],
   "source": [
    "model_report"
   ]
  },
  {
   "cell_type": "code",
   "execution_count": null,
   "id": "891157b5",
   "metadata": {
    "execution": {
     "iopub.execute_input": "2023-09-22T14:46:44.434738Z",
     "iopub.status.busy": "2023-09-22T14:46:44.434291Z",
     "iopub.status.idle": "2023-09-22T14:46:44.439668Z",
     "shell.execute_reply": "2023-09-22T14:46:44.438518Z"
    },
    "papermill": {
     "duration": 0.075926,
     "end_time": "2023-09-22T14:46:44.441938",
     "exception": false,
     "start_time": "2023-09-22T14:46:44.366012",
     "status": "completed"
    },
    "tags": []
   },
   "outputs": [],
   "source": [
    "model = RandomForestRegressor()"
   ]
  },
  {
   "cell_type": "code",
   "execution_count": null,
   "id": "cefcc810",
   "metadata": {
    "execution": {
     "iopub.execute_input": "2023-09-22T14:46:44.572886Z",
     "iopub.status.busy": "2023-09-22T14:46:44.571864Z",
     "iopub.status.idle": "2023-09-22T14:46:44.579818Z",
     "shell.execute_reply": "2023-09-22T14:46:44.578927Z"
    },
    "papermill": {
     "duration": 0.076019,
     "end_time": "2023-09-22T14:46:44.582560",
     "exception": false,
     "start_time": "2023-09-22T14:46:44.506541",
     "status": "completed"
    },
    "tags": []
   },
   "outputs": [],
   "source": [
    "param_grid = {\n",
    "    \"n_estimators\" : [100,150,200,250,300],\n",
    "    \"max_depth\" : [10,15,20,None],\n",
    "    \"n_jobs\" : [1,-1,None],\n",
    "    \"verbose\" : [0,1,2,-1]\n",
    "}"
   ]
  },
  {
   "cell_type": "code",
   "execution_count": null,
   "id": "575a5ffb",
   "metadata": {
    "execution": {
     "iopub.execute_input": "2023-09-22T14:46:44.716346Z",
     "iopub.status.busy": "2023-09-22T14:46:44.715040Z",
     "iopub.status.idle": "2023-09-22T14:46:44.721095Z",
     "shell.execute_reply": "2023-09-22T14:46:44.720053Z"
    },
    "papermill": {
     "duration": 0.075137,
     "end_time": "2023-09-22T14:46:44.723761",
     "exception": false,
     "start_time": "2023-09-22T14:46:44.648624",
     "status": "completed"
    },
    "tags": []
   },
   "outputs": [],
   "source": [
    "gr = GridSearchCV(model,param_grid=param_grid,cv=3)"
   ]
  },
  {
   "cell_type": "code",
   "execution_count": null,
   "id": "ee6e343d",
   "metadata": {
    "_kg_hide-output": true,
    "execution": {
     "iopub.execute_input": "2023-09-22T14:46:44.855572Z",
     "iopub.status.busy": "2023-09-22T14:46:44.854230Z",
     "iopub.status.idle": "2023-09-22T14:51:55.728497Z",
     "shell.execute_reply": "2023-09-22T14:51:55.727260Z"
    },
    "jupyter": {
     "outputs_hidden": true
    },
    "papermill": {
     "duration": 310.943041,
     "end_time": "2023-09-22T14:51:55.731328",
     "exception": false,
     "start_time": "2023-09-22T14:46:44.788287",
     "status": "completed"
    },
    "tags": []
   },
   "outputs": [],
   "source": [
    "gr.fit(X,y)"
   ]
  },
  {
   "cell_type": "code",
   "execution_count": null,
   "id": "866153d7",
   "metadata": {
    "execution": {
     "iopub.execute_input": "2023-09-22T14:51:56.167477Z",
     "iopub.status.busy": "2023-09-22T14:51:56.167029Z",
     "iopub.status.idle": "2023-09-22T14:51:56.173679Z",
     "shell.execute_reply": "2023-09-22T14:51:56.172549Z"
    },
    "papermill": {
     "duration": 0.225308,
     "end_time": "2023-09-22T14:51:56.176035",
     "exception": false,
     "start_time": "2023-09-22T14:51:55.950727",
     "status": "completed"
    },
    "tags": []
   },
   "outputs": [],
   "source": [
    "gr.best_params_"
   ]
  },
  {
   "cell_type": "code",
   "execution_count": null,
   "id": "a801509f",
   "metadata": {
    "execution": {
     "iopub.execute_input": "2023-09-22T14:51:56.606661Z",
     "iopub.status.busy": "2023-09-22T14:51:56.606270Z",
     "iopub.status.idle": "2023-09-22T14:51:56.614721Z",
     "shell.execute_reply": "2023-09-22T14:51:56.613494Z"
    },
    "papermill": {
     "duration": 0.226663,
     "end_time": "2023-09-22T14:51:56.617289",
     "exception": false,
     "start_time": "2023-09-22T14:51:56.390626",
     "status": "completed"
    },
    "tags": []
   },
   "outputs": [],
   "source": [
    "gr.best_estimator_"
   ]
  },
  {
   "cell_type": "code",
   "execution_count": null,
   "id": "7ee89744",
   "metadata": {
    "execution": {
     "iopub.execute_input": "2023-09-22T14:51:57.043613Z",
     "iopub.status.busy": "2023-09-22T14:51:57.043219Z",
     "iopub.status.idle": "2023-09-22T14:51:57.048265Z",
     "shell.execute_reply": "2023-09-22T14:51:57.046933Z"
    },
    "papermill": {
     "duration": 0.221731,
     "end_time": "2023-09-22T14:51:57.050619",
     "exception": false,
     "start_time": "2023-09-22T14:51:56.828888",
     "status": "completed"
    },
    "tags": []
   },
   "outputs": [],
   "source": [
    "model = gr.best_estimator_"
   ]
  },
  {
   "cell_type": "code",
   "execution_count": null,
   "id": "cdfd24b1",
   "metadata": {
    "execution": {
     "iopub.execute_input": "2023-09-22T14:51:57.475030Z",
     "iopub.status.busy": "2023-09-22T14:51:57.474653Z",
     "iopub.status.idle": "2023-09-22T14:51:57.524310Z",
     "shell.execute_reply": "2023-09-22T14:51:57.522901Z"
    },
    "papermill": {
     "duration": 0.264579,
     "end_time": "2023-09-22T14:51:57.527171",
     "exception": false,
     "start_time": "2023-09-22T14:51:57.262592",
     "status": "completed"
    },
    "tags": []
   },
   "outputs": [],
   "source": [
    "test_df.head()"
   ]
  },
  {
   "cell_type": "code",
   "execution_count": null,
   "id": "9b3cb27f",
   "metadata": {
    "execution": {
     "iopub.execute_input": "2023-09-22T14:51:57.957416Z",
     "iopub.status.busy": "2023-09-22T14:51:57.956975Z",
     "iopub.status.idle": "2023-09-22T14:51:57.976661Z",
     "shell.execute_reply": "2023-09-22T14:51:57.975521Z"
    },
    "papermill": {
     "duration": 0.240321,
     "end_time": "2023-09-22T14:51:57.979575",
     "exception": false,
     "start_time": "2023-09-22T14:51:57.739254",
     "status": "completed"
    },
    "tags": []
   },
   "outputs": [],
   "source": [
    "ids = test_df[\"Id\"]\n",
    "test_df.drop(\"Id\",axis=1,inplace=True)"
   ]
  },
  {
   "cell_type": "code",
   "execution_count": null,
   "id": "e04f6a01",
   "metadata": {
    "execution": {
     "iopub.execute_input": "2023-09-22T14:51:58.408091Z",
     "iopub.status.busy": "2023-09-22T14:51:58.407704Z",
     "iopub.status.idle": "2023-09-22T14:51:58.664374Z",
     "shell.execute_reply": "2023-09-22T14:51:58.663070Z"
    },
    "papermill": {
     "duration": 0.474585,
     "end_time": "2023-09-22T14:51:58.667240",
     "exception": false,
     "start_time": "2023-09-22T14:51:58.192655",
     "status": "completed"
    },
    "tags": []
   },
   "outputs": [],
   "source": [
    "test_df = pip.fit_transform(test_df).drop(\"Day_Name\",axis=1)"
   ]
  },
  {
   "cell_type": "code",
   "execution_count": null,
   "id": "a031ce8b",
   "metadata": {
    "_kg_hide-input": true,
    "execution": {
     "iopub.execute_input": "2023-09-22T14:51:59.095138Z",
     "iopub.status.busy": "2023-09-22T14:51:59.094730Z",
     "iopub.status.idle": "2023-09-22T14:51:59.104325Z",
     "shell.execute_reply": "2023-09-22T14:51:59.103396Z"
    },
    "papermill": {
     "duration": 0.227109,
     "end_time": "2023-09-22T14:51:59.107307",
     "exception": false,
     "start_time": "2023-09-22T14:51:58.880198",
     "status": "completed"
    },
    "tags": []
   },
   "outputs": [],
   "source": [
    "test_df[\"Amasya\"] = 0\n",
    "test_df[\"Elazığ\"] = 0\n",
    "test_df[\"Karabük\"] = 0\n",
    "test_df[\"Kastamonu\"] = 0\n",
    "test_df[\"Osmaniye\"] = 0\n",
    "test_df[\"Tokat\"] = 0"
   ]
  },
  {
   "cell_type": "code",
   "execution_count": null,
   "id": "f927569b",
   "metadata": {
    "_kg_hide-input": true,
    "execution": {
     "iopub.execute_input": "2023-09-22T14:51:59.543403Z",
     "iopub.status.busy": "2023-09-22T14:51:59.543008Z",
     "iopub.status.idle": "2023-09-22T14:51:59.564886Z",
     "shell.execute_reply": "2023-09-22T14:51:59.563503Z"
    },
    "papermill": {
     "duration": 0.243458,
     "end_time": "2023-09-22T14:51:59.567646",
     "exception": false,
     "start_time": "2023-09-22T14:51:59.324188",
     "status": "completed"
    },
    "tags": []
   },
   "outputs": [],
   "source": [
    "test_df = test_df[X.columns]"
   ]
  },
  {
   "cell_type": "code",
   "execution_count": null,
   "id": "ef5a9951",
   "metadata": {
    "execution": {
     "iopub.execute_input": "2023-09-22T14:51:59.994702Z",
     "iopub.status.busy": "2023-09-22T14:51:59.994285Z",
     "iopub.status.idle": "2023-09-22T14:52:01.275248Z",
     "shell.execute_reply": "2023-09-22T14:52:01.272811Z"
    },
    "papermill": {
     "duration": 1.49824,
     "end_time": "2023-09-22T14:52:01.278054",
     "exception": false,
     "start_time": "2023-09-22T14:51:59.779814",
     "status": "completed"
    },
    "tags": []
   },
   "outputs": [],
   "source": [
    "Prediction = model.predict(test_df)"
   ]
  },
  {
   "cell_type": "code",
   "execution_count": null,
   "id": "662264fe",
   "metadata": {
    "execution": {
     "iopub.execute_input": "2023-09-22T14:52:01.710909Z",
     "iopub.status.busy": "2023-09-22T14:52:01.710211Z",
     "iopub.status.idle": "2023-09-22T14:52:01.715691Z",
     "shell.execute_reply": "2023-09-22T14:52:01.714834Z"
    },
    "papermill": {
     "duration": 0.224939,
     "end_time": "2023-09-22T14:52:01.717894",
     "exception": false,
     "start_time": "2023-09-22T14:52:01.492955",
     "status": "completed"
    },
    "tags": []
   },
   "outputs": [],
   "source": [
    "Predictions = pd.DataFrame({\"Id\":ids,\"Prediction\":Prediction})"
   ]
  },
  {
   "cell_type": "code",
   "execution_count": null,
   "id": "8826630e",
   "metadata": {
    "execution": {
     "iopub.execute_input": "2023-09-22T14:52:02.151357Z",
     "iopub.status.busy": "2023-09-22T14:52:02.150314Z",
     "iopub.status.idle": "2023-09-22T14:52:02.165534Z",
     "shell.execute_reply": "2023-09-22T14:52:02.164592Z"
    },
    "papermill": {
     "duration": 0.236371,
     "end_time": "2023-09-22T14:52:02.168048",
     "exception": false,
     "start_time": "2023-09-22T14:52:01.931677",
     "status": "completed"
    },
    "tags": []
   },
   "outputs": [],
   "source": [
    "Predictions"
   ]
  },
  {
   "cell_type": "code",
   "execution_count": null,
   "id": "f4d347e9",
   "metadata": {
    "execution": {
     "iopub.execute_input": "2023-09-22T14:52:02.620546Z",
     "iopub.status.busy": "2023-09-22T14:52:02.619689Z",
     "iopub.status.idle": "2023-09-22T14:52:02.970939Z",
     "shell.execute_reply": "2023-09-22T14:52:02.969427Z"
    },
    "papermill": {
     "duration": 0.571819,
     "end_time": "2023-09-22T14:52:02.974108",
     "exception": false,
     "start_time": "2023-09-22T14:52:02.402289",
     "status": "completed"
    },
    "tags": []
   },
   "outputs": [],
   "source": [
    "Predictions.to_csv(\"submission.csv\",index=False)"
   ]
  },
  {
   "cell_type": "code",
   "execution_count": null,
   "id": "fb71afd2",
   "metadata": {
    "papermill": {
     "duration": 0.211036,
     "end_time": "2023-09-22T14:52:03.398759",
     "exception": false,
     "start_time": "2023-09-22T14:52:03.187723",
     "status": "completed"
    },
    "tags": []
   },
   "outputs": [],
   "source": []
  }
 ],
 "metadata": {
  "kernelspec": {
   "display_name": "Python 3 (ipykernel)",
   "language": "python",
   "name": "python3"
  },
  "language_info": {
   "codemirror_mode": {
    "name": "ipython",
    "version": 3
   },
   "file_extension": ".py",
   "mimetype": "text/x-python",
   "name": "python",
   "nbconvert_exporter": "python",
   "pygments_lexer": "ipython3",
   "version": "3.11.5"
  },
  "papermill": {
   "default_parameters": {},
   "duration": 422.935208,
   "end_time": "2023-09-22T14:52:06.625799",
   "environment_variables": {},
   "exception": null,
   "input_path": "__notebook__.ipynb",
   "output_path": "__notebook__.ipynb",
   "parameters": {},
   "start_time": "2023-09-22T14:45:03.690591",
   "version": "2.4.0"
  }
 },
 "nbformat": 4,
 "nbformat_minor": 5
}
