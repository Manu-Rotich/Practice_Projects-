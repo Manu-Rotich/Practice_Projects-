{
 "cells": [
  {
   "cell_type": "code",
   "execution_count": 3,
   "id": "66d062a4",
   "metadata": {},
   "outputs": [
    {
     "ename": "ModuleNotFoundError",
     "evalue": "No module named 'scipy.sparse'; 'scipy' is not a package",
     "output_type": "error",
     "traceback": [
      "\u001b[1;31m---------------------------------------------------------------------------\u001b[0m",
      "\u001b[1;31mModuleNotFoundError\u001b[0m                       Traceback (most recent call last)",
      "Cell \u001b[1;32mIn[3], line 5\u001b[0m\n\u001b[0;32m      3\u001b[0m \u001b[38;5;28;01mimport\u001b[39;00m \u001b[38;5;21;01mmatplotlib\u001b[39;00m\u001b[38;5;21;01m.\u001b[39;00m\u001b[38;5;21;01mpyplot\u001b[39;00m \u001b[38;5;28;01mas\u001b[39;00m \u001b[38;5;21;01mplt\u001b[39;00m\n\u001b[0;32m      4\u001b[0m \u001b[38;5;28;01mimport\u001b[39;00m \u001b[38;5;21;01mseaborn\u001b[39;00m \u001b[38;5;28;01mas\u001b[39;00m \u001b[38;5;21;01msns\u001b[39;00m\n\u001b[1;32m----> 5\u001b[0m \u001b[38;5;28;01mfrom\u001b[39;00m \u001b[38;5;21;01msklearn\u001b[39;00m \u001b[38;5;28;01mimport\u001b[39;00m datasets\n",
      "File \u001b[1;32m~\\anaconda3\\Lib\\site-packages\\sklearn\\__init__.py:83\u001b[0m\n\u001b[0;32m     69\u001b[0m     \u001b[38;5;66;03m# We are not importing the rest of scikit-learn during the build\u001b[39;00m\n\u001b[0;32m     70\u001b[0m     \u001b[38;5;66;03m# process, as it may not be compiled yet\u001b[39;00m\n\u001b[0;32m     71\u001b[0m \u001b[38;5;28;01melse\u001b[39;00m:\n\u001b[1;32m   (...)\u001b[0m\n\u001b[0;32m     77\u001b[0m     \u001b[38;5;66;03m# later is linked to the OpenMP runtime to make it possible to introspect\u001b[39;00m\n\u001b[0;32m     78\u001b[0m     \u001b[38;5;66;03m# it and importing it first would fail if the OpenMP dll cannot be found.\u001b[39;00m\n\u001b[0;32m     79\u001b[0m     \u001b[38;5;28;01mfrom\u001b[39;00m \u001b[38;5;21;01m.\u001b[39;00m \u001b[38;5;28;01mimport\u001b[39;00m (\n\u001b[0;32m     80\u001b[0m         __check_build,  \u001b[38;5;66;03m# noqa: F401\u001b[39;00m\n\u001b[0;32m     81\u001b[0m         _distributor_init,  \u001b[38;5;66;03m# noqa: F401\u001b[39;00m\n\u001b[0;32m     82\u001b[0m     )\n\u001b[1;32m---> 83\u001b[0m     \u001b[38;5;28;01mfrom\u001b[39;00m \u001b[38;5;21;01m.\u001b[39;00m\u001b[38;5;21;01mbase\u001b[39;00m \u001b[38;5;28;01mimport\u001b[39;00m clone\n\u001b[0;32m     84\u001b[0m     \u001b[38;5;28;01mfrom\u001b[39;00m \u001b[38;5;21;01m.\u001b[39;00m\u001b[38;5;21;01mutils\u001b[39;00m\u001b[38;5;21;01m.\u001b[39;00m\u001b[38;5;21;01m_show_versions\u001b[39;00m \u001b[38;5;28;01mimport\u001b[39;00m show_versions\n\u001b[0;32m     86\u001b[0m     __all__ \u001b[38;5;241m=\u001b[39m [\n\u001b[0;32m     87\u001b[0m         \u001b[38;5;124m\"\u001b[39m\u001b[38;5;124mcalibration\u001b[39m\u001b[38;5;124m\"\u001b[39m,\n\u001b[0;32m     88\u001b[0m         \u001b[38;5;124m\"\u001b[39m\u001b[38;5;124mcluster\u001b[39m\u001b[38;5;124m\"\u001b[39m,\n\u001b[1;32m   (...)\u001b[0m\n\u001b[0;32m    129\u001b[0m         \u001b[38;5;124m\"\u001b[39m\u001b[38;5;124mshow_versions\u001b[39m\u001b[38;5;124m\"\u001b[39m,\n\u001b[0;32m    130\u001b[0m     ]\n",
      "File \u001b[1;32m~\\anaconda3\\Lib\\site-packages\\sklearn\\base.py:19\u001b[0m\n\u001b[0;32m     17\u001b[0m \u001b[38;5;28;01mfrom\u001b[39;00m \u001b[38;5;21;01m.\u001b[39;00m\u001b[38;5;21;01m_config\u001b[39;00m \u001b[38;5;28;01mimport\u001b[39;00m config_context, get_config\n\u001b[0;32m     18\u001b[0m \u001b[38;5;28;01mfrom\u001b[39;00m \u001b[38;5;21;01m.\u001b[39;00m\u001b[38;5;21;01mexceptions\u001b[39;00m \u001b[38;5;28;01mimport\u001b[39;00m InconsistentVersionWarning\n\u001b[1;32m---> 19\u001b[0m \u001b[38;5;28;01mfrom\u001b[39;00m \u001b[38;5;21;01m.\u001b[39;00m\u001b[38;5;21;01mutils\u001b[39;00m \u001b[38;5;28;01mimport\u001b[39;00m _IS_32BIT\n\u001b[0;32m     20\u001b[0m \u001b[38;5;28;01mfrom\u001b[39;00m \u001b[38;5;21;01m.\u001b[39;00m\u001b[38;5;21;01mutils\u001b[39;00m\u001b[38;5;21;01m.\u001b[39;00m\u001b[38;5;21;01m_estimator_html_repr\u001b[39;00m \u001b[38;5;28;01mimport\u001b[39;00m estimator_html_repr\n\u001b[0;32m     21\u001b[0m \u001b[38;5;28;01mfrom\u001b[39;00m \u001b[38;5;21;01m.\u001b[39;00m\u001b[38;5;21;01mutils\u001b[39;00m\u001b[38;5;21;01m.\u001b[39;00m\u001b[38;5;21;01m_metadata_requests\u001b[39;00m \u001b[38;5;28;01mimport\u001b[39;00m _MetadataRequester\n",
      "File \u001b[1;32m~\\anaconda3\\Lib\\site-packages\\sklearn\\utils\\__init__.py:15\u001b[0m\n\u001b[0;32m     12\u001b[0m \u001b[38;5;28;01mfrom\u001b[39;00m \u001b[38;5;21;01mitertools\u001b[39;00m \u001b[38;5;28;01mimport\u001b[39;00m compress, islice\n\u001b[0;32m     14\u001b[0m \u001b[38;5;28;01mimport\u001b[39;00m \u001b[38;5;21;01mnumpy\u001b[39;00m \u001b[38;5;28;01mas\u001b[39;00m \u001b[38;5;21;01mnp\u001b[39;00m\n\u001b[1;32m---> 15\u001b[0m \u001b[38;5;28;01mfrom\u001b[39;00m \u001b[38;5;21;01mscipy\u001b[39;00m\u001b[38;5;21;01m.\u001b[39;00m\u001b[38;5;21;01msparse\u001b[39;00m \u001b[38;5;28;01mimport\u001b[39;00m issparse\n\u001b[0;32m     17\u001b[0m \u001b[38;5;28;01mfrom\u001b[39;00m \u001b[38;5;21;01m.\u001b[39;00m\u001b[38;5;21;01m.\u001b[39;00m \u001b[38;5;28;01mimport\u001b[39;00m get_config\n\u001b[0;32m     18\u001b[0m \u001b[38;5;28;01mfrom\u001b[39;00m \u001b[38;5;21;01m.\u001b[39;00m\u001b[38;5;21;01m.\u001b[39;00m\u001b[38;5;21;01mexceptions\u001b[39;00m \u001b[38;5;28;01mimport\u001b[39;00m DataConversionWarning\n",
      "\u001b[1;31mModuleNotFoundError\u001b[0m: No module named 'scipy.sparse'; 'scipy' is not a package"
     ]
    }
   ],
   "source": [
    "import pandas as pd\n",
    "import numpy as np\n",
    "import matplotlib.pyplot as plt\n",
    "import seaborn as sns\n",
    "from sklearn import datasets"
   ]
  },
  {
   "cell_type": "code",
   "execution_count": 2,
   "id": "6420d0b8",
   "metadata": {},
   "outputs": [
    {
     "name": "stdout",
     "output_type": "stream",
     "text": [
      "Requirement already satisfied: scipy in c:\\users\\hp\\anaconda3\\lib\\site-packages (1.11.1)\n",
      "Requirement already satisfied: numpy<1.28.0,>=1.21.6 in c:\\users\\hp\\anaconda3\\lib\\site-packages (from scipy) (1.24.3)\n"
     ]
    }
   ],
   "source": [
    "!pip install scipy\n"
   ]
  },
  {
   "cell_type": "code",
   "execution_count": null,
   "id": "1b1459e5",
   "metadata": {},
   "outputs": [],
   "source": [
    "sns.set()"
   ]
  },
  {
   "cell_type": "code",
   "execution_count": null,
   "id": "ccd5e100",
   "metadata": {},
   "outputs": [],
   "source": [
    "data=datasets.load_iris()"
   ]
  },
  {
   "cell_type": "code",
   "execution_count": null,
   "id": "4b023723",
   "metadata": {},
   "outputs": [],
   "source": [
    "data.keys()"
   ]
  },
  {
   "cell_type": "code",
   "execution_count": null,
   "id": "ed7e3b95",
   "metadata": {},
   "outputs": [],
   "source": [
    "print(data[\"DESCR\"])"
   ]
  },
  {
   "cell_type": "code",
   "execution_count": null,
   "id": "744fe936",
   "metadata": {},
   "outputs": [],
   "source": [
    "data[\"data\"][:5]"
   ]
  },
  {
   "cell_type": "code",
   "execution_count": null,
   "id": "0b20bd1f",
   "metadata": {},
   "outputs": [],
   "source": [
    "data[\"feature_names\"]"
   ]
  },
  {
   "cell_type": "code",
   "execution_count": null,
   "id": "3676ed12",
   "metadata": {},
   "outputs": [],
   "source": [
    "data[\"target\"]"
   ]
  },
  {
   "cell_type": "code",
   "execution_count": null,
   "id": "72d759a9",
   "metadata": {},
   "outputs": [],
   "source": [
    "data[\"target_names\"]"
   ]
  },
  {
   "cell_type": "markdown",
   "id": "92cc9c8d",
   "metadata": {},
   "source": [
    "## What problem are we trying to solve\n",
    "We are trying to use attributes of flowers to predict the species of the flowers. Specifically, we are trying to use the sepal length and width and the petal length and width to predict if an Iris flower is of type Setosa, Versicolor or Virginica."
   ]
  },
  {
   "cell_type": "markdown",
   "id": "1cf50784",
   "metadata": {},
   "source": [
    "# Creating pandas Dataframe from the data"
   ]
  },
  {
   "cell_type": "code",
   "execution_count": null,
   "id": "ac8e48d2",
   "metadata": {},
   "outputs": [],
   "source": [
    "df = pd.DataFrame(data[\"data\"], columns=data[\"feature_names\"])"
   ]
  },
  {
   "cell_type": "code",
   "execution_count": null,
   "id": "162a9ab2",
   "metadata": {},
   "outputs": [],
   "source": [
    "df[\"target\"] = data[\"target\"]"
   ]
  },
  {
   "cell_type": "code",
   "execution_count": null,
   "id": "ee636e38",
   "metadata": {},
   "outputs": [],
   "source": [
    "df"
   ]
  },
  {
   "cell_type": "markdown",
   "id": "d0a1514c",
   "metadata": {},
   "source": [
    "## Basic descriptive statistics"
   ]
  },
  {
   "cell_type": "code",
   "execution_count": null,
   "id": "261ea359",
   "metadata": {},
   "outputs": [],
   "source": [
    "df.describe()"
   ]
  },
  {
   "cell_type": "markdown",
   "id": "f6891ba3",
   "metadata": {},
   "source": [
    "## Distribution of features and target"
   ]
  },
  {
   "cell_type": "code",
   "execution_count": null,
   "id": "a9c6aa6e",
   "metadata": {},
   "outputs": [],
   "source": [
    "df['sepal length (cm)'].hist()"
   ]
  },
  {
   "cell_type": "code",
   "execution_count": null,
   "id": "cbc5873a",
   "metadata": {},
   "outputs": [],
   "source": [
    "df['sepal width (cm)'].hist()"
   ]
  },
  {
   "cell_type": "code",
   "execution_count": null,
   "id": "94531710",
   "metadata": {},
   "outputs": [],
   "source": [
    "df['petal length (cm)'].hist()"
   ]
  },
  {
   "cell_type": "code",
   "execution_count": null,
   "id": "bcfef726",
   "metadata": {},
   "outputs": [],
   "source": [
    "df['petal width (cm)'].hist()"
   ]
  },
  {
   "cell_type": "markdown",
   "id": "a20e7a4e",
   "metadata": {},
   "source": [
    "# Relationship of the data features with the target"
   ]
  },
  {
   "cell_type": "code",
   "execution_count": null,
   "id": "594a3762",
   "metadata": {},
   "outputs": [],
   "source": [
    "df['target_name'] = df['target'].map({0:'setosa', 1:'versicolor', 2:'virginica'})"
   ]
  },
  {
   "cell_type": "code",
   "execution_count": null,
   "id": "4d874d19",
   "metadata": {},
   "outputs": [],
   "source": [
    "col = 'sepal length (cm)'\n",
    "sns.relplot(x=col, y='target', hue='target_name', data=df)\n",
    "plt.suptitle(col, y=1.01)\n",
    "plt.show()"
   ]
  },
  {
   "cell_type": "code",
   "execution_count": null,
   "id": "9de87162",
   "metadata": {},
   "outputs": [],
   "source": [
    "col = 'sepal width (cm)'\n",
    "sns.relplot(x=col, y='target', hue='target_name', data=df)\n",
    "plt.suptitle(col, y=1.01)\n",
    "plt.show()"
   ]
  },
  {
   "cell_type": "code",
   "execution_count": null,
   "id": "077b437b",
   "metadata": {},
   "outputs": [],
   "source": [
    "col = 'petal length (cm)'\n",
    "sns.relplot(x=col, y='target', hue='target_name', data=df)\n",
    "plt.suptitle(col, y=1.01)\n",
    "plt.show()"
   ]
  },
  {
   "cell_type": "code",
   "execution_count": null,
   "id": "14cdad6c",
   "metadata": {},
   "outputs": [],
   "source": [
    "col = 'petal width (cm)'\n",
    "sns.relplot(x=col, y='target', hue='target_name', data=df)\n",
    "plt.suptitle(col, y=1.01)\n",
    "plt.show()"
   ]
  },
  {
   "cell_type": "markdown",
   "id": "81269e71",
   "metadata": {},
   "source": [
    "## EDA- Pairplots"
   ]
  },
  {
   "cell_type": "code",
   "execution_count": null,
   "id": "11289b13",
   "metadata": {
    "scrolled": true
   },
   "outputs": [],
   "source": [
    "sns.pairplot(df, hue=\"target_name\")"
   ]
  },
  {
   "cell_type": "markdown",
   "id": "5113db48",
   "metadata": {},
   "source": [
    "## Train test split"
   ]
  },
  {
   "cell_type": "code",
   "execution_count": null,
   "id": "175feeba",
   "metadata": {},
   "outputs": [],
   "source": [
    "!pip install Pyppeteer\n",
    "!Pyppeteer-install"
   ]
  },
  {
   "cell_type": "code",
   "execution_count": null,
   "id": "446c311c",
   "metadata": {},
   "outputs": [],
   "source": [
    "from sklearn.model_selection import train_test_split"
   ]
  },
  {
   "cell_type": "code",
   "execution_count": null,
   "id": "f770da99",
   "metadata": {},
   "outputs": [],
   "source": []
  },
  {
   "cell_type": "code",
   "execution_count": null,
   "id": "9f1043da",
   "metadata": {},
   "outputs": [],
   "source": [
    "df_train,df_test=train_test_split(df,test_size=0.25)"
   ]
  },
  {
   "cell_type": "code",
   "execution_count": null,
   "id": "65f9ab77",
   "metadata": {},
   "outputs": [],
   "source": [
    "df_test.shape"
   ]
  },
  {
   "cell_type": "code",
   "execution_count": null,
   "id": "04702e95",
   "metadata": {},
   "outputs": [],
   "source": [
    "df_train.head()"
   ]
  },
  {
   "cell_type": "code",
   "execution_count": null,
   "id": "59916753",
   "metadata": {},
   "outputs": [],
   "source": [
    "x_train = df_train.drop(columns=['target']).values"
   ]
  },
  {
   "cell_type": "code",
   "execution_count": null,
   "id": "77a58a72",
   "metadata": {},
   "outputs": [],
   "source": [
    "y_train = (df_train['target']).values"
   ]
  },
  {
   "cell_type": "code",
   "execution_count": null,
   "id": "1ab56a71",
   "metadata": {},
   "outputs": [],
   "source": [
    "y_train"
   ]
  },
  {
   "cell_type": "markdown",
   "id": "95f520ea",
   "metadata": {},
   "source": [
    "# Modelling - What is our Baseline\n",
    "What is the simplest model we can think of? in this place if our baseline model is just randomly guessing this pieces of flowers or guessing a single species for every data points to have a model aggressive in 33 since we have and that are even distributed."
   ]
  },
  {
   "cell_type": "markdown",
   "id": "09278b18",
   "metadata": {},
   "source": [
    "# Model-LogicRegression"
   ]
  },
  {
   "cell_type": "code",
   "execution_count": null,
   "id": "9dd2d3a1",
   "metadata": {},
   "outputs": [],
   "source": [
    "from sklearn.linear_model import LogisticRegression"
   ]
  },
  {
   "cell_type": "code",
   "execution_count": null,
   "id": "1e323cd0",
   "metadata": {},
   "outputs": [],
   "source": [
    "from sklearn.linear_model import LogisticRegression\n",
    "\n",
    "# Now you can create a logistic regression model object\n",
    "model = LogisticRegression()\n"
   ]
  },
  {
   "cell_type": "code",
   "execution_count": null,
   "id": "7f7a6c15",
   "metadata": {},
   "outputs": [],
   "source": [
    "xt,xv,yt,yv = train_test_split(x_train,y_train, test_size = 0.25)"
   ]
  },
  {
   "cell_type": "code",
   "execution_count": null,
   "id": "6246ef8c",
   "metadata": {},
   "outputs": [],
   "source": [
    "model.fit(x_train,y_train)"
   ]
  },
  {
   "cell_type": "code",
   "execution_count": null,
   "id": "c5d1cd09",
   "metadata": {},
   "outputs": [],
   "source": [
    "model.score(x_train,y_train)"
   ]
  },
  {
   "cell_type": "code",
   "execution_count": null,
   "id": "de5169cf",
   "metadata": {},
   "outputs": [],
   "source": [
    "model.score?"
   ]
  },
  {
   "cell_type": "markdown",
   "id": "b78645db",
   "metadata": {},
   "source": [
    "## Using a avalidation dataset to evaluate our model"
   ]
  },
  {
   "cell_type": "code",
   "execution_count": null,
   "id": "f4e4ff5e",
   "metadata": {},
   "outputs": [],
   "source": [
    "model.fit(xt,yt)"
   ]
  },
  {
   "cell_type": "code",
   "execution_count": null,
   "id": "76107c95",
   "metadata": {},
   "outputs": [],
   "source": [
    "y_pred=model.predict(xv)"
   ]
  },
  {
   "cell_type": "code",
   "execution_count": null,
   "id": "59f14d0b",
   "metadata": {},
   "outputs": [],
   "source": [
    "y_pred == yv"
   ]
  },
  {
   "cell_type": "code",
   "execution_count": null,
   "id": "4c6f7b2f",
   "metadata": {},
   "outputs": [],
   "source": [
    "np.mean(y_pred == yv)"
   ]
  },
  {
   "cell_type": "code",
   "execution_count": null,
   "id": "b2cf224b",
   "metadata": {},
   "outputs": [],
   "source": [
    "model.score(xv,yv)"
   ]
  },
  {
   "cell_type": "markdown",
   "id": "c71d0fb4",
   "metadata": {},
   "source": [
    "# Using cross-validation to evaluate our model"
   ]
  },
  {
   "cell_type": "code",
   "execution_count": null,
   "id": "6bb01c5f",
   "metadata": {},
   "outputs": [],
   "source": [
    "from sklearn.model_selection import "
   ]
  }
 ],
 "metadata": {
  "kernelspec": {
   "display_name": "Python 3 (ipykernel)",
   "language": "python",
   "name": "python3"
  },
  "language_info": {
   "codemirror_mode": {
    "name": "ipython",
    "version": 3
   },
   "file_extension": ".py",
   "mimetype": "text/x-python",
   "name": "python",
   "nbconvert_exporter": "python",
   "pygments_lexer": "ipython3",
   "version": "3.11.5"
  }
 },
 "nbformat": 4,
 "nbformat_minor": 5
}
