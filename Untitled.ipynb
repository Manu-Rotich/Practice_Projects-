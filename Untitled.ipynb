{
 "cells": [
  {
   "cell_type": "code",
   "execution_count": 2,
   "id": "82cea6be",
   "metadata": {},
   "outputs": [
    {
     "name": "stdout",
     "output_type": "stream",
     "text": [
      "1\n",
      "2\n",
      "3\n",
      "4\n",
      "5\n",
      "6\n"
     ]
    }
   ],
   "source": [
    "# Assuming class1 is a list of numbers\n",
    "class1 = [1, 2, 3, 4, 5, 6]\n",
    "\n",
    "i = 0\n",
    "while i < len(class1):  # Correct syntax with colon\n",
    "    print(class1[i])  # Access and print the element at index i\n",
    "    i += 1  # Increment the loop counter\n",
    "\n"
   ]
  },
  {
   "cell_type": "code",
   "execution_count": 4,
   "id": "4a05df30",
   "metadata": {},
   "outputs": [
    {
     "name": "stdout",
     "output_type": "stream",
     "text": [
      "[1, 2, 3, 4, 5, 6, 'eight', 'nine', 'ten']\n"
     ]
    }
   ],
   "source": [
    "class1 = [1, 2, 3, 4, 5, 6]  # Assuming this is the intended definition of `class`\n",
    "\n",
    "addition = ('eight', 'nine', 'ten')\n",
    "\n",
    "# Concatenate class1 and addition using the + operator\n",
    "combined_list = class1 + list(addition)\n",
    "\n",
    "print(combined_list)\n"
   ]
  },
  {
   "cell_type": "code",
   "execution_count": null,
   "id": "63aa8e04",
   "metadata": {},
   "outputs": [],
   "source": []
  },
  {
   "cell_type": "code",
   "execution_count": null,
   "id": "560c2dee",
   "metadata": {},
   "outputs": [],
   "source": []
  },
  {
   "cell_type": "code",
   "execution_count": 5,
   "id": "d4b98e76",
   "metadata": {},
   "outputs": [
    {
     "name": "stdout",
     "output_type": "stream",
     "text": [
      "1\n"
     ]
    }
   ],
   "source": [
    "newnumber=('eight','nine','ten','eight','nine','ten')\n",
    "r=newnumber.index('nine')\n",
    "print(r)"
   ]
  },
  {
   "cell_type": "code",
   "execution_count": null,
   "id": "9180fdc7",
   "metadata": {},
   "outputs": [],
   "source": []
  },
  {
   "cell_type": "code",
   "execution_count": 8,
   "id": "11998a14",
   "metadata": {},
   "outputs": [],
   "source": [
    "# Create a tuple\n",
    "my_tuple = (10, \"apple\", True)"
   ]
  },
  {
   "cell_type": "code",
   "execution_count": 9,
   "id": "58f6f62a",
   "metadata": {},
   "outputs": [],
   "source": [
    "first_element = my_tuple[0]"
   ]
  },
  {
   "cell_type": "code",
   "execution_count": 6,
   "id": "c3197197",
   "metadata": {},
   "outputs": [
    {
     "ename": "TypeError",
     "evalue": "'tuple' object does not support item assignment",
     "output_type": "error",
     "traceback": [
      "\u001b[1;31m---------------------------------------------------------------------------\u001b[0m",
      "\u001b[1;31mTypeError\u001b[0m                                 Traceback (most recent call last)",
      "Cell \u001b[1;32mIn[6], line 12\u001b[0m\n\u001b[0;32m      9\u001b[0m sub_tuple \u001b[38;5;241m=\u001b[39m my_tuple[\u001b[38;5;241m1\u001b[39m:\u001b[38;5;241m3\u001b[39m]  \u001b[38;5;66;03m# sub_tuple will be (\"apple\", True)\u001b[39;00m\n\u001b[0;32m     11\u001b[0m \u001b[38;5;66;03m# Tuples are immutable\u001b[39;00m\n\u001b[1;32m---> 12\u001b[0m my_tuple[\u001b[38;5;241m0\u001b[39m] \u001b[38;5;241m=\u001b[39m \u001b[38;5;241m20\u001b[39m  \u001b[38;5;66;03m# This will cause an error\u001b[39;00m\n\u001b[0;32m     14\u001b[0m \u001b[38;5;66;03m# You can create a new tuple with modifications\u001b[39;00m\n\u001b[0;32m     15\u001b[0m new_tuple \u001b[38;5;241m=\u001b[39m (\u001b[38;5;241m20\u001b[39m, \u001b[38;5;241m*\u001b[39mmy_tuple[\u001b[38;5;241m1\u001b[39m:])\n",
      "\u001b[1;31mTypeError\u001b[0m: 'tuple' object does not support item assignment"
     ]
    }
   ],
   "source": [
    "\n",
    "\n",
    "# Access elements by index\n",
    "first_element = my_tuple[0]  # first_element will be 10\n",
    "second_element = my_tuple[1]  # second_element will be \"apple\"\n",
    "\n",
    "# Slicing\n",
    "sub_tuple = my_tuple[1:3]  # sub_tuple will be (\"apple\", True)\n",
    "\n",
    "# Tuples are immutable\n",
    "my_tuple[0] = 20  # This will cause an error\n",
    "\n",
    "# You can create a new tuple with modifications\n",
    "new_tuple = (20, *my_tuple[1:])  # new_tuple will be (20, \"apple\", True)\n"
   ]
  },
  {
   "cell_type": "code",
   "execution_count": null,
   "id": "f2d491f7",
   "metadata": {},
   "outputs": [],
   "source": []
  },
  {
   "cell_type": "code",
   "execution_count": null,
   "id": "120b46a7",
   "metadata": {},
   "outputs": [],
   "source": []
  },
  {
   "cell_type": "code",
   "execution_count": null,
   "id": "9e05ab5b",
   "metadata": {},
   "outputs": [],
   "source": []
  },
  {
   "cell_type": "code",
   "execution_count": null,
   "id": "a2cf401e",
   "metadata": {},
   "outputs": [],
   "source": []
  },
  {
   "cell_type": "markdown",
   "id": "2bc13058",
   "metadata": {},
   "source": [
    "##ttuple"
   ]
  },
  {
   "cell_type": "code",
   "execution_count": 17,
   "id": "f7bbe579",
   "metadata": {},
   "outputs": [
    {
     "name": "stdout",
     "output_type": "stream",
     "text": [
      "{False, 3, 'one', 'them', 'nine', 'us', 'me'}\n"
     ]
    }
   ],
   "source": [
    "class3={False,3,'nine','one'}\n",
    "today={\"us\",\"me\",\"them\"}\n",
    "class3.update(today)\n",
    "print(class3)"
   ]
  },
  {
   "cell_type": "code",
   "execution_count": null,
   "id": "f9062d70",
   "metadata": {},
   "outputs": [],
   "source": []
  },
  {
   "cell_type": "code",
   "execution_count": 18,
   "id": "ba46df8d",
   "metadata": {},
   "outputs": [
    {
     "name": "stdout",
     "output_type": "stream",
     "text": [
      "{3, 'one', 'nine'}\n"
     ]
    }
   ],
   "source": [
    "class3={False,3,'nine','one'}\n",
    "class3.remove(False)\n",
    "print(class3)"
   ]
  },
  {
   "cell_type": "code",
   "execution_count": 19,
   "id": "3178ee36",
   "metadata": {},
   "outputs": [
    {
     "name": "stdout",
     "output_type": "stream",
     "text": [
      "None\n"
     ]
    }
   ],
   "source": [
    "class3={False,3,'nine','one'}\n",
    "T=class3.remove(False)\n",
    "print(T)"
   ]
  },
  {
   "cell_type": "code",
   "execution_count": null,
   "id": "76b6fd88",
   "metadata": {},
   "outputs": [],
   "source": []
  },
  {
   "cell_type": "code",
   "execution_count": null,
   "id": "66dd58e6",
   "metadata": {},
   "outputs": [],
   "source": []
  },
  {
   "cell_type": "code",
   "execution_count": null,
   "id": "cd42963b",
   "metadata": {},
   "outputs": [],
   "source": []
  },
  {
   "cell_type": "code",
   "execution_count": null,
   "id": "e0d16256",
   "metadata": {},
   "outputs": [],
   "source": []
  },
  {
   "cell_type": "code",
   "execution_count": 13,
   "id": "9e0d012f",
   "metadata": {},
   "outputs": [
    {
     "ename": "TypeError",
     "evalue": "TextIOWrapper.write() takes exactly one argument (0 given)",
     "output_type": "error",
     "traceback": [
      "\u001b[1;31m---------------------------------------------------------------------------\u001b[0m",
      "\u001b[1;31mTypeError\u001b[0m                                 Traceback (most recent call last)",
      "Cell \u001b[1;32mIn[13], line 2\u001b[0m\n\u001b[0;32m      1\u001b[0m file\u001b[38;5;241m=\u001b[39m\u001b[38;5;28mopen\u001b[39m(\u001b[38;5;124m'\u001b[39m\u001b[38;5;124mTesting.csv\u001b[39m\u001b[38;5;124m'\u001b[39m,\u001b[38;5;124m'\u001b[39m\u001b[38;5;124mw\u001b[39m\u001b[38;5;124m'\u001b[39m)\n\u001b[1;32m----> 2\u001b[0m contents\u001b[38;5;241m=\u001b[39mfile\u001b[38;5;241m.\u001b[39mwrite()\n\u001b[0;32m      3\u001b[0m \u001b[38;5;28mprint\u001b[39m(contents)\n\u001b[0;32m      4\u001b[0m file\u001b[38;5;241m.\u001b[39mclose()\n",
      "\u001b[1;31mTypeError\u001b[0m: TextIOWrapper.write() takes exactly one argument (0 given)"
     ]
    }
   ],
   "source": [
    "file=open('Testing.csv','w')\n",
    "contents=file.write()\n",
    "print(contents)\n",
    "file.close()"
   ]
  },
  {
   "cell_type": "code",
   "execution_count": null,
   "id": "5fda04c2",
   "metadata": {},
   "outputs": [],
   "source": []
  }
 ],
 "metadata": {
  "kernelspec": {
   "display_name": "Python 3 (ipykernel)",
   "language": "python",
   "name": "python3"
  },
  "language_info": {
   "codemirror_mode": {
    "name": "ipython",
    "version": 3
   },
   "file_extension": ".py",
   "mimetype": "text/x-python",
   "name": "python",
   "nbconvert_exporter": "python",
   "pygments_lexer": "ipython3",
   "version": "3.11.5"
  }
 },
 "nbformat": 4,
 "nbformat_minor": 5
}
